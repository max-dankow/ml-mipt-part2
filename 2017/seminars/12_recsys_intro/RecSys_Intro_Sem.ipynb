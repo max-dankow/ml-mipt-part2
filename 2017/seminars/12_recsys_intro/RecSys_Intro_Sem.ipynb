{
 "cells": [
  {
   "cell_type": "markdown",
   "metadata": {},
   "source": [
    "# Введение в рекомендательные системы"
   ]
  },
  {
   "cell_type": "markdown",
   "metadata": {},
   "source": [
    "План семинара:\n",
    "1. Теоретическое введение в non-personalized и content-based рекомендательные системы\n",
    "2. Обсуждение идей построения простых рекомендательных систем\n",
    "3. Знакомство с данными\n",
    "4. Построение простейших non-personalized и content-based рекомендательных систем и подсчет HitRate для них\n",
    "5. Обзор библиотек для построения рекомендательных систем"
   ]
  },
  {
   "cell_type": "code",
   "execution_count": 230,
   "metadata": {},
   "outputs": [],
   "source": [
    "import numpy as np\n",
    "import pandas as pd\n",
    "from scipy.sparse import coo_matrix\n",
    "import matplotlib.pyplot as plt\n",
    "import seaborn as sns\n",
    "\n",
    "%matplotlib inline"
   ]
  },
  {
   "cell_type": "markdown",
   "metadata": {},
   "source": [
    "Будем работать с, наверное, самым известым и популярным датасетом для RecSys: **MovieLens**\n",
    "\n",
    "Ссылка: https://grouplens.org/datasets/movielens/"
   ]
  },
  {
   "cell_type": "markdown",
   "metadata": {},
   "source": [
    "Датасет представляет из себя набор рейтингов фильмов, а также другую сопутствующую информацию: теги фильмов, ссылки на них на IMDB и тд. Датасеты есть разных размеров, мы поисследуем датасет 2016 года, в нем 20 миллионов оценок, 27000 фильмов и 138000 пользователей. "
   ]
  },
  {
   "cell_type": "code",
   "execution_count": 231,
   "metadata": {},
   "outputs": [
    {
     "name": "stdout",
     "output_type": "stream",
     "text": [
      "userId,movieId,rating,timestamp\r",
      "\r\n",
      "1,2,3.5,1112486027\r",
      "\r\n",
      "1,29,3.5,1112484676\r",
      "\r\n"
     ]
    }
   ],
   "source": [
    "!head ml-20m/ratings.csv -n 3"
   ]
  },
  {
   "cell_type": "code",
   "execution_count": 232,
   "metadata": {},
   "outputs": [
    {
     "name": "stdout",
     "output_type": "stream",
     "text": [
      "-rw-r--r-- 1 asaitgalin LD\\Domain Users 509M Apr  1  2015 ml-20m/ratings.csv\r\n"
     ]
    }
   ],
   "source": [
    "!ls -lh ml-20m/ratings.csv"
   ]
  },
  {
   "cell_type": "code",
   "execution_count": 233,
   "metadata": {},
   "outputs": [],
   "source": [
    "df = pd.read_csv(\"ml-20m/ratings.csv\")"
   ]
  },
  {
   "cell_type": "code",
   "execution_count": 234,
   "metadata": {},
   "outputs": [
    {
     "data": {
      "text/html": [
       "<div>\n",
       "<style scoped>\n",
       "    .dataframe tbody tr th:only-of-type {\n",
       "        vertical-align: middle;\n",
       "    }\n",
       "\n",
       "    .dataframe tbody tr th {\n",
       "        vertical-align: top;\n",
       "    }\n",
       "\n",
       "    .dataframe thead th {\n",
       "        text-align: right;\n",
       "    }\n",
       "</style>\n",
       "<table border=\"1\" class=\"dataframe\">\n",
       "  <thead>\n",
       "    <tr style=\"text-align: right;\">\n",
       "      <th></th>\n",
       "      <th>userId</th>\n",
       "      <th>movieId</th>\n",
       "      <th>rating</th>\n",
       "      <th>timestamp</th>\n",
       "    </tr>\n",
       "  </thead>\n",
       "  <tbody>\n",
       "    <tr>\n",
       "      <th>0</th>\n",
       "      <td>1</td>\n",
       "      <td>2</td>\n",
       "      <td>3.5</td>\n",
       "      <td>1112486027</td>\n",
       "    </tr>\n",
       "    <tr>\n",
       "      <th>1</th>\n",
       "      <td>1</td>\n",
       "      <td>29</td>\n",
       "      <td>3.5</td>\n",
       "      <td>1112484676</td>\n",
       "    </tr>\n",
       "    <tr>\n",
       "      <th>2</th>\n",
       "      <td>1</td>\n",
       "      <td>32</td>\n",
       "      <td>3.5</td>\n",
       "      <td>1112484819</td>\n",
       "    </tr>\n",
       "    <tr>\n",
       "      <th>3</th>\n",
       "      <td>1</td>\n",
       "      <td>47</td>\n",
       "      <td>3.5</td>\n",
       "      <td>1112484727</td>\n",
       "    </tr>\n",
       "    <tr>\n",
       "      <th>4</th>\n",
       "      <td>1</td>\n",
       "      <td>50</td>\n",
       "      <td>3.5</td>\n",
       "      <td>1112484580</td>\n",
       "    </tr>\n",
       "  </tbody>\n",
       "</table>\n",
       "</div>"
      ],
      "text/plain": [
       "   userId  movieId  rating   timestamp\n",
       "0       1        2     3.5  1112486027\n",
       "1       1       29     3.5  1112484676\n",
       "2       1       32     3.5  1112484819\n",
       "3       1       47     3.5  1112484727\n",
       "4       1       50     3.5  1112484580"
      ]
     },
     "execution_count": 234,
     "metadata": {},
     "output_type": "execute_result"
    }
   ],
   "source": [
    "df.head()"
   ]
  },
  {
   "cell_type": "code",
   "execution_count": 235,
   "metadata": {},
   "outputs": [
    {
     "name": "stdout",
     "output_type": "stream",
     "text": [
      "README.txt\t   genome-tags.csv  movies.csv\t tags.csv\r\n",
      "genome-scores.csv  links.csv\t    ratings.csv\r\n"
     ]
    }
   ],
   "source": [
    "!ls ml-20m"
   ]
  },
  {
   "cell_type": "code",
   "execution_count": 236,
   "metadata": {},
   "outputs": [
    {
     "name": "stdout",
     "output_type": "stream",
     "text": [
      "userId,movieId,tag,timestamp\r",
      "\r\n",
      "18,4141,Mark Waters,1240597180\r",
      "\r\n",
      "65,208,dark hero,1368150078\r",
      "\r\n",
      "65,353,dark hero,1368150079\r",
      "\r\n",
      "65,521,noir thriller,1368149983\r",
      "\r\n"
     ]
    }
   ],
   "source": [
    "!head ml-20m/tags.csv -n 5"
   ]
  },
  {
   "cell_type": "code",
   "execution_count": 237,
   "metadata": {},
   "outputs": [
    {
     "name": "stdout",
     "output_type": "stream",
     "text": [
      "movieId,imdbId,tmdbId\r",
      "\r\n",
      "1,0114709,862\r",
      "\r\n",
      "2,0113497,8844\r",
      "\r\n",
      "3,0113228,15602\r",
      "\r\n",
      "4,0114885,31357\r",
      "\r\n"
     ]
    }
   ],
   "source": [
    "!head ml-20m/links.csv -n 5"
   ]
  },
  {
   "cell_type": "code",
   "execution_count": 238,
   "metadata": {
    "scrolled": true
   },
   "outputs": [
    {
     "name": "stdout",
     "output_type": "stream",
     "text": [
      "movieId,title,genres\r",
      "\r\n",
      "1,Toy Story (1995),Adventure|Animation|Children|Comedy|Fantasy\r",
      "\r\n",
      "2,Jumanji (1995),Adventure|Children|Fantasy\r",
      "\r\n",
      "3,Grumpier Old Men (1995),Comedy|Romance\r",
      "\r\n",
      "4,Waiting to Exhale (1995),Comedy|Drama|Romance\r",
      "\r\n"
     ]
    }
   ],
   "source": [
    "!head ml-20m/movies.csv -n 5"
   ]
  },
  {
   "cell_type": "markdown",
   "metadata": {},
   "source": [
    "![Toy story](https://s-media-cache-ak0.pinimg.com/originals/8f/75/4d/8f754d609b06e10a078ed8d3eefcaf04.png)"
   ]
  },
  {
   "cell_type": "code",
   "execution_count": 239,
   "metadata": {},
   "outputs": [
    {
     "name": "stdout",
     "output_type": "stream",
     "text": [
      "Max user id 138493\n",
      "Max item id 131262\n"
     ]
    }
   ],
   "source": [
    "print(\"Max user id\", df[\"userId\"].max())\n",
    "print(\"Max item id\", df[\"movieId\"].max())"
   ]
  },
  {
   "cell_type": "code",
   "execution_count": 240,
   "metadata": {},
   "outputs": [
    {
     "name": "stdout",
     "output_type": "stream",
     "text": [
      "Unique user count 138493\n",
      "Unique movie count 26744\n"
     ]
    }
   ],
   "source": [
    "print(\"Unique user count\", len(df[\"userId\"].unique()))\n",
    "print(\"Unique movie count\", len(df[\"movieId\"].unique()))"
   ]
  },
  {
   "cell_type": "markdown",
   "metadata": {},
   "source": [
    "Номера фильмов идут не подряд, для удобства перенумеруем фильмы по порядку"
   ]
  },
  {
   "cell_type": "code",
   "execution_count": 241,
   "metadata": {},
   "outputs": [],
   "source": [
    "index_to_item_id_mapping = [x for x in df[\"movieId\"].sort_values().unique()]\n",
    "item_id_to_index_mapping = {}\n",
    "for index, value in enumerate(index_to_item_id_mapping, start=1):\n",
    "    item_id_to_index_mapping[int(value)] = index\n",
    "\n",
    "assert len(index_to_item_id_mapping) == 26744"
   ]
  },
  {
   "cell_type": "code",
   "execution_count": 242,
   "metadata": {},
   "outputs": [],
   "source": [
    "df = pd.DataFrame.from_records(\n",
    "    {\"userId\": row.userId, \"movieId\": item_id_to_index_mapping[int(row.movieId)], \"rating\": row.rating}\n",
    "    for row in df.itertuples())"
   ]
  },
  {
   "cell_type": "code",
   "execution_count": 243,
   "metadata": {},
   "outputs": [
    {
     "data": {
      "text/plain": [
       "(20000263, 3)"
      ]
     },
     "execution_count": 243,
     "metadata": {},
     "output_type": "execute_result"
    }
   ],
   "source": [
    "df.shape"
   ]
  },
  {
   "cell_type": "markdown",
   "metadata": {},
   "source": [
    "Как говорилось на лекции, центральный предмет изучения в рекомендательных системах это матрица user-item.\n",
    "\n",
    "Разреженность большая: 20000263 / (138493 * 26744) = 0.005"
   ]
  },
  {
   "cell_type": "markdown",
   "metadata": {},
   "source": [
    "Если восстанавливать ее всю, то это ~ 138493 x 26744 x 4 (размер float) = 13 gb."
   ]
  },
  {
   "cell_type": "code",
   "execution_count": 262,
   "metadata": {},
   "outputs": [],
   "source": [
    "def run_cv(predictor_class, fold_count=5, top_size=10):\n",
    "    users = list(range(len(df[\"userId\"].unique())))\n",
    "    fold_size = len(users) // fold_count\n",
    "\n",
    "    results = []\n",
    "\n",
    "    for fold_start in range(fold_count):\n",
    "        fold = users[fold_start:fold_start+fold_size]\n",
    "\n",
    "        df[\"random\"] = np.random.random(size=(df.shape[0], 1))\n",
    "        idx = df.sort_values(by=\"random\") \\\n",
    "            .reset_index() \\\n",
    "            .groupby(\"userId\") \\\n",
    "            .last()[\"index\"]\n",
    "\n",
    "        mask = df.index.isin(idx) & df[\"userId\"].isin(fold)\n",
    "        train_df = df[~mask]\n",
    "        test_df = df[mask]\n",
    "\n",
    "        predictor = predictor_class(train_df, test_df)\n",
    "        \n",
    "        sum_ = 0.0\n",
    "        for row in test_df.itertuples():\n",
    "            prediction = predictor.predict(row)\n",
    "            if prediction is None:\n",
    "                continue\n",
    "                \n",
    "            sum_ += float(row.movieId in prediction)\n",
    "\n",
    "        results.append(sum_ / test_df.shape[0])\n",
    "    \n",
    "    return np.mean(results)"
   ]
  },
  {
   "cell_type": "markdown",
   "metadata": {},
   "source": [
    "## Non-personalized рекомендательные системы"
   ]
  },
  {
   "cell_type": "markdown",
   "metadata": {},
   "source": [
    "Реализуем три метода non-personalized метода рекомендаций:\n",
    "1. Будем предсказывать топ-10 наиболее популярных фильмов (популярность - число рейтингов)\n",
    "2. Будем предсказывать топ-10 наиболее рейтинговых фильмов (с самым большим средним рейтингом)\n",
    "3. Будем предсказывать топ-10 случайных фильмов (каждый раз перемешивая список при предсказании)"
   ]
  },
  {
   "cell_type": "markdown",
   "metadata": {},
   "source": [
    "Сравним эти методы по метрике HitRate с помощью CV:\n",
    "$$HR = \\frac{\\#hits}{\\#users}$$"
   ]
  },
  {
   "cell_type": "markdown",
   "metadata": {},
   "source": [
    "Первый метод, предсказываем топ-10 наиболее популярных фильмов"
   ]
  },
  {
   "cell_type": "code",
   "execution_count": 255,
   "metadata": {},
   "outputs": [
    {
     "data": {
      "text/plain": [
       "0.050863225184100726"
      ]
     },
     "execution_count": 255,
     "metadata": {},
     "output_type": "execute_result"
    }
   ],
   "source": [
    "class PopularityPredictor(object):\n",
    "    def __init__(self, train_df, test_df):\n",
    "        self.top = list(train_df\n",
    "            .groupby(\"movieId\")\n",
    "            .size()\n",
    "            .reset_index()\n",
    "            .sort_values(by=0, ascending=False)\n",
    "            .iloc[:top_size][\"movieId\"]\n",
    "            .values)\n",
    "\n",
    "    def predict(self, row):\n",
    "        return self.top\n",
    "\n",
    "run_cv(PopularityPredictor)"
   ]
  },
  {
   "cell_type": "markdown",
   "metadata": {},
   "source": [
    "Второй метод, предсказываем топ-10 фильмов с наибольшим средним рейтингом"
   ]
  },
  {
   "cell_type": "code",
   "execution_count": 256,
   "metadata": {},
   "outputs": [
    {
     "data": {
      "text/plain": [
       "0.013437892931673395"
      ]
     },
     "execution_count": 256,
     "metadata": {},
     "output_type": "execute_result"
    }
   ],
   "source": [
    "class AvgRatingPredictor(object):\n",
    "    def __init__(self, train_df, test_df):\n",
    "        group_sizes = train_df.groupby(\"movieId\").size().reset_index()\n",
    "        blacklist = group_sizes[group_sizes[0] < 5].movieId\n",
    "        train_df = train_df[~train_df.movieId.isin(blacklist)]\n",
    "    \n",
    "        self.top = list(train_df\n",
    "            .groupby(\"movieId\")\n",
    "            .mean()\n",
    "            .reset_index()\n",
    "            .sort_values(by=\"rating\", ascending=False)\n",
    "            .iloc[:top_size][\"movieId\"]\n",
    "            .values)\n",
    "    \n",
    "    def predict(self, row):\n",
    "        return self.top\n",
    "\n",
    "run_cv(AvgRatingPredictor)"
   ]
  },
  {
   "cell_type": "markdown",
   "metadata": {},
   "source": [
    "Третий метод, предсказываем случайные 10 фильмов"
   ]
  },
  {
   "cell_type": "code",
   "execution_count": 260,
   "metadata": {},
   "outputs": [
    {
     "data": {
      "text/plain": [
       "0.00039714371622441943"
      ]
     },
     "execution_count": 260,
     "metadata": {},
     "output_type": "execute_result"
    }
   ],
   "source": [
    "class RandomPredictor(object):\n",
    "    def __init__(self, train_df, test_df):\n",
    "        self.movies = list(range(len(train_df[\"movieId\"].unique())))\n",
    "    \n",
    "    def predict(self, row):\n",
    "        np.random.shuffle(self.movies)\n",
    "        return self.movies[:10]\n",
    "\n",
    "run_cv(RandomPredictor)"
   ]
  },
  {
   "cell_type": "markdown",
   "metadata": {},
   "source": [
    "## Content-based рекомендательные системы"
   ]
  },
  {
   "cell_type": "markdown",
   "metadata": {},
   "source": [
    "Будем использовать информацию о фильмах для предсказания, а именно - жанр фильмов.\n",
    "1. Посмотрим на самые популярные жанры\n",
    "2. Внутри каждого жанра найдем топ-10 самых популярных фильмов\n",
    "3. Для каждого пользователя определим топ-3 жанров, которые он смотрит\n",
    "4. Построим простую content-based систему, предсказывая для каждого пользователя 5 самых популярных фильмов из первого по популярности жанра, 3 фильма второго по популярности жанра и 2 фильма из третьего по популярности жанра\n",
    "5. Посчитаем HitRate"
   ]
  },
  {
   "cell_type": "code",
   "execution_count": 100,
   "metadata": {},
   "outputs": [],
   "source": [
    "df_movie = pd.read_csv(\"ml-20m/movies.csv\")"
   ]
  },
  {
   "cell_type": "code",
   "execution_count": 110,
   "metadata": {},
   "outputs": [],
   "source": [
    "from collections import Counter\n",
    "\n",
    "genres = []\n",
    "\n",
    "for row in df_movie.itertuples():\n",
    "    genre_list = row.genres.split(\"|\")\n",
    "    genres.extend(genre_list)\n",
    "\n",
    "cntr = Counter(genres)"
   ]
  },
  {
   "cell_type": "code",
   "execution_count": 111,
   "metadata": {},
   "outputs": [
    {
     "data": {
      "text/plain": [
       "Counter({'(no genres listed)': 246,\n",
       "         'Action': 3520,\n",
       "         'Adventure': 2329,\n",
       "         'Animation': 1027,\n",
       "         'Children': 1139,\n",
       "         'Comedy': 8374,\n",
       "         'Crime': 2939,\n",
       "         'Documentary': 2471,\n",
       "         'Drama': 13344,\n",
       "         'Fantasy': 1412,\n",
       "         'Film-Noir': 330,\n",
       "         'Horror': 2611,\n",
       "         'IMAX': 196,\n",
       "         'Musical': 1036,\n",
       "         'Mystery': 1514,\n",
       "         'Romance': 4127,\n",
       "         'Sci-Fi': 1743,\n",
       "         'Thriller': 4178,\n",
       "         'War': 1194,\n",
       "         'Western': 676})"
      ]
     },
     "execution_count": 111,
     "metadata": {},
     "output_type": "execute_result"
    }
   ],
   "source": [
    "cntr"
   ]
  },
  {
   "cell_type": "code",
   "execution_count": 113,
   "metadata": {},
   "outputs": [
    {
     "data": {
      "text/plain": [
       "[('Drama', 13344),\n",
       " ('Comedy', 8374),\n",
       " ('Thriller', 4178),\n",
       " ('Romance', 4127),\n",
       " ('Action', 3520)]"
      ]
     },
     "execution_count": 113,
     "metadata": {},
     "output_type": "execute_result"
    }
   ],
   "source": [
    "cntr.most_common(5)"
   ]
  },
  {
   "cell_type": "code",
   "execution_count": 126,
   "metadata": {},
   "outputs": [
    {
     "data": {
      "image/png": "[encoded data removed]",
      "text/plain": [
       "<matplotlib.figure.Figure at 0x118cdfe80>"
      ]
     },
     "metadata": {},
     "output_type": "display_data"
    }
   ],
   "source": [
    "import matplotlib\n",
    "\n",
    "matplotlib.rcParams.update({'font.size': 28})\n",
    "\n",
    "\n",
    "plt.figure(figsize=(20,10))\n",
    "hist, bins = np.histogram(list(cntr.values()), bins=len(cntr))\n",
    "width = 0.7 * (bins[1] - bins[0])\n",
    "center = (bins[:-1] + bins[1:]) / 2\n",
    "\n",
    "plt.bar(center, cntr.values(), align='center', width=width, tick_label=list(cntr.keys()))\n",
    "plt.xticks(rotation=75)\n",
    "_ = plt.title('Top-level genres')"
   ]
  },
  {
   "cell_type": "code",
   "execution_count": 145,
   "metadata": {},
   "outputs": [],
   "source": [
    "df_joined = pd.merge(df, df_movie[[\"movieId\", \"genres\"]], on=\"movieId\", how=\"inner\")"
   ]
  },
  {
   "cell_type": "code",
   "execution_count": 264,
   "metadata": {},
   "outputs": [],
   "source": [
    "def genre_list(x):\n",
    "    return list(set(\"|\".join(x.tolist()).split(\"|\")))\n",
    "\n",
    "def genre_list_len(x):\n",
    "    return len(genre_list(x))\n",
    "\n",
    "def popular_genres(x):\n",
    "    return Counter(\"|\".join(x.tolist()).split(\"|\")).most_common(3)\n",
    "\n",
    "df_users = df_joined.groupby('userId').agg({'genres': [genre_list, genre_list_len, popular_genres]})"
   ]
  },
  {
   "cell_type": "code",
   "execution_count": 265,
   "metadata": {},
   "outputs": [
    {
     "data": {
      "text/html": [
       "<div>\n",
       "<style scoped>\n",
       "    .dataframe tbody tr th:only-of-type {\n",
       "        vertical-align: middle;\n",
       "    }\n",
       "\n",
       "    .dataframe tbody tr th {\n",
       "        vertical-align: top;\n",
       "    }\n",
       "\n",
       "    .dataframe thead tr th {\n",
       "        text-align: left;\n",
       "    }\n",
       "\n",
       "    .dataframe thead tr:last-of-type th {\n",
       "        text-align: right;\n",
       "    }\n",
       "</style>\n",
       "<table border=\"1\" class=\"dataframe\">\n",
       "  <thead>\n",
       "    <tr>\n",
       "      <th></th>\n",
       "      <th colspan=\"3\" halign=\"left\">genres</th>\n",
       "    </tr>\n",
       "    <tr>\n",
       "      <th></th>\n",
       "      <th>genre_list</th>\n",
       "      <th>genre_list_len</th>\n",
       "      <th>popular_genres</th>\n",
       "    </tr>\n",
       "    <tr>\n",
       "      <th>userId</th>\n",
       "      <th></th>\n",
       "      <th></th>\n",
       "      <th></th>\n",
       "    </tr>\n",
       "  </thead>\n",
       "  <tbody>\n",
       "    <tr>\n",
       "      <th>1</th>\n",
       "      <td>[Adventure, Action, Fantasy, Comedy, IMAX, Thr...</td>\n",
       "      <td>19</td>\n",
       "      <td>[(Drama, 77), (Comedy, 49), (Romance, 31)]</td>\n",
       "    </tr>\n",
       "    <tr>\n",
       "      <th>2</th>\n",
       "      <td>[Adventure, Action, Fantasy, Comedy, Thriller,...</td>\n",
       "      <td>17</td>\n",
       "      <td>[(Drama, 34), (Comedy, 21), (Thriller, 13)]</td>\n",
       "    </tr>\n",
       "    <tr>\n",
       "      <th>3</th>\n",
       "      <td>[Adventure, Action, Fantasy, Comedy, Romance, ...</td>\n",
       "      <td>18</td>\n",
       "      <td>[(Drama, 94), (Comedy, 55), (Thriller, 40)]</td>\n",
       "    </tr>\n",
       "    <tr>\n",
       "      <th>4</th>\n",
       "      <td>[Adventure, Action, Fantasy, Comedy, IMAX, Thr...</td>\n",
       "      <td>16</td>\n",
       "      <td>[(Drama, 13), (Action, 8), (Comedy, 8)]</td>\n",
       "    </tr>\n",
       "    <tr>\n",
       "      <th>5</th>\n",
       "      <td>[Adventure, Action, Fantasy, Comedy, IMAX, Thr...</td>\n",
       "      <td>17</td>\n",
       "      <td>[(Drama, 39), (Comedy, 25), (Romance, 16)]</td>\n",
       "    </tr>\n",
       "  </tbody>\n",
       "</table>\n",
       "</div>"
      ],
      "text/plain": [
       "                                                   genres                 \\\n",
       "                                               genre_list genre_list_len   \n",
       "userId                                                                     \n",
       "1       [Adventure, Action, Fantasy, Comedy, IMAX, Thr...             19   \n",
       "2       [Adventure, Action, Fantasy, Comedy, Thriller,...             17   \n",
       "3       [Adventure, Action, Fantasy, Comedy, Romance, ...             18   \n",
       "4       [Adventure, Action, Fantasy, Comedy, IMAX, Thr...             16   \n",
       "5       [Adventure, Action, Fantasy, Comedy, IMAX, Thr...             17   \n",
       "\n",
       "                                                     \n",
       "                                     popular_genres  \n",
       "userId                                               \n",
       "1        [(Drama, 77), (Comedy, 49), (Romance, 31)]  \n",
       "2       [(Drama, 34), (Comedy, 21), (Thriller, 13)]  \n",
       "3       [(Drama, 94), (Comedy, 55), (Thriller, 40)]  \n",
       "4           [(Drama, 13), (Action, 8), (Comedy, 8)]  \n",
       "5        [(Drama, 39), (Comedy, 25), (Romance, 16)]  "
      ]
     },
     "execution_count": 265,
     "metadata": {},
     "output_type": "execute_result"
    }
   ],
   "source": [
    "df_users.head()"
   ]
  },
  {
   "cell_type": "markdown",
   "metadata": {},
   "source": [
    "Таким образом мы получили для каждого пользователя топ-3 его жанров."
   ]
  },
  {
   "cell_type": "code",
   "execution_count": 266,
   "metadata": {},
   "outputs": [
    {
     "data": {
      "text/html": [
       "<div>\n",
       "<style scoped>\n",
       "    .dataframe tbody tr th:only-of-type {\n",
       "        vertical-align: middle;\n",
       "    }\n",
       "\n",
       "    .dataframe tbody tr th {\n",
       "        vertical-align: top;\n",
       "    }\n",
       "\n",
       "    .dataframe thead th {\n",
       "        text-align: right;\n",
       "    }\n",
       "</style>\n",
       "<table border=\"1\" class=\"dataframe\">\n",
       "  <thead>\n",
       "    <tr style=\"text-align: right;\">\n",
       "      <th></th>\n",
       "      <th>movieId</th>\n",
       "      <th>rating</th>\n",
       "      <th>userId</th>\n",
       "      <th>random</th>\n",
       "      <th>genres</th>\n",
       "    </tr>\n",
       "  </thead>\n",
       "  <tbody>\n",
       "    <tr>\n",
       "      <th>0</th>\n",
       "      <td>2</td>\n",
       "      <td>3.5</td>\n",
       "      <td>1</td>\n",
       "      <td>0.699968</td>\n",
       "      <td>Adventure|Children|Fantasy</td>\n",
       "    </tr>\n",
       "    <tr>\n",
       "      <th>22243</th>\n",
       "      <td>29</td>\n",
       "      <td>3.5</td>\n",
       "      <td>1</td>\n",
       "      <td>0.353111</td>\n",
       "      <td>Adventure|Drama|Fantasy|Mystery|Sci-Fi</td>\n",
       "    </tr>\n",
       "    <tr>\n",
       "      <th>30763</th>\n",
       "      <td>32</td>\n",
       "      <td>3.5</td>\n",
       "      <td>1</td>\n",
       "      <td>0.988698</td>\n",
       "      <td>Mystery|Sci-Fi|Thriller</td>\n",
       "    </tr>\n",
       "    <tr>\n",
       "      <th>75743</th>\n",
       "      <td>47</td>\n",
       "      <td>3.5</td>\n",
       "      <td>1</td>\n",
       "      <td>0.936680</td>\n",
       "      <td>Mystery|Thriller</td>\n",
       "    </tr>\n",
       "    <tr>\n",
       "      <th>118992</th>\n",
       "      <td>50</td>\n",
       "      <td>3.5</td>\n",
       "      <td>1</td>\n",
       "      <td>0.060261</td>\n",
       "      <td>Crime|Mystery|Thriller</td>\n",
       "    </tr>\n",
       "  </tbody>\n",
       "</table>\n",
       "</div>"
      ],
      "text/plain": [
       "        movieId  rating  userId    random  \\\n",
       "0             2     3.5       1  0.699968   \n",
       "22243        29     3.5       1  0.353111   \n",
       "30763        32     3.5       1  0.988698   \n",
       "75743        47     3.5       1  0.936680   \n",
       "118992       50     3.5       1  0.060261   \n",
       "\n",
       "                                        genres  \n",
       "0                   Adventure|Children|Fantasy  \n",
       "22243   Adventure|Drama|Fantasy|Mystery|Sci-Fi  \n",
       "30763                  Mystery|Sci-Fi|Thriller  \n",
       "75743                         Mystery|Thriller  \n",
       "118992                  Crime|Mystery|Thriller  "
      ]
     },
     "execution_count": 266,
     "metadata": {},
     "output_type": "execute_result"
    }
   ],
   "source": [
    "df_joined[df_joined[\"userId\"] == 1].head()  # Sanity-check, что join отработал верно"
   ]
  },
  {
   "cell_type": "code",
   "execution_count": 172,
   "metadata": {},
   "outputs": [],
   "source": [
    "df_counts = df_joined.groupby(\"movieId\").count().reset_index()\n",
    "df_counts[\"count\"] = df_counts[\"rating\"]\n",
    "for col in (\"userId\", \"random\", \"genres\", \"rating\"):\n",
    "    del df_counts[col]"
   ]
  },
  {
   "cell_type": "code",
   "execution_count": 176,
   "metadata": {},
   "outputs": [],
   "source": [
    "result = pd.merge(df_joined, df_counts, on=\"movieId\")"
   ]
  },
  {
   "cell_type": "code",
   "execution_count": 177,
   "metadata": {
    "scrolled": true
   },
   "outputs": [
    {
     "data": {
      "text/html": [
       "<div>\n",
       "<style scoped>\n",
       "    .dataframe tbody tr th:only-of-type {\n",
       "        vertical-align: middle;\n",
       "    }\n",
       "\n",
       "    .dataframe tbody tr th {\n",
       "        vertical-align: top;\n",
       "    }\n",
       "\n",
       "    .dataframe thead th {\n",
       "        text-align: right;\n",
       "    }\n",
       "</style>\n",
       "<table border=\"1\" class=\"dataframe\">\n",
       "  <thead>\n",
       "    <tr style=\"text-align: right;\">\n",
       "      <th></th>\n",
       "      <th>movieId</th>\n",
       "      <th>rating</th>\n",
       "      <th>userId</th>\n",
       "      <th>random</th>\n",
       "      <th>genres</th>\n",
       "      <th>count</th>\n",
       "    </tr>\n",
       "  </thead>\n",
       "  <tbody>\n",
       "    <tr>\n",
       "      <th>0</th>\n",
       "      <td>2</td>\n",
       "      <td>3.5</td>\n",
       "      <td>1</td>\n",
       "      <td>0.699968</td>\n",
       "      <td>Adventure|Children|Fantasy</td>\n",
       "      <td>22243</td>\n",
       "    </tr>\n",
       "    <tr>\n",
       "      <th>1</th>\n",
       "      <td>2</td>\n",
       "      <td>3.0</td>\n",
       "      <td>5</td>\n",
       "      <td>0.318093</td>\n",
       "      <td>Adventure|Children|Fantasy</td>\n",
       "      <td>22243</td>\n",
       "    </tr>\n",
       "    <tr>\n",
       "      <th>2</th>\n",
       "      <td>2</td>\n",
       "      <td>3.0</td>\n",
       "      <td>13</td>\n",
       "      <td>0.569927</td>\n",
       "      <td>Adventure|Children|Fantasy</td>\n",
       "      <td>22243</td>\n",
       "    </tr>\n",
       "    <tr>\n",
       "      <th>3</th>\n",
       "      <td>2</td>\n",
       "      <td>3.0</td>\n",
       "      <td>29</td>\n",
       "      <td>0.893119</td>\n",
       "      <td>Adventure|Children|Fantasy</td>\n",
       "      <td>22243</td>\n",
       "    </tr>\n",
       "    <tr>\n",
       "      <th>4</th>\n",
       "      <td>2</td>\n",
       "      <td>3.0</td>\n",
       "      <td>34</td>\n",
       "      <td>0.533717</td>\n",
       "      <td>Adventure|Children|Fantasy</td>\n",
       "      <td>22243</td>\n",
       "    </tr>\n",
       "  </tbody>\n",
       "</table>\n",
       "</div>"
      ],
      "text/plain": [
       "   movieId  rating  userId    random                      genres  count\n",
       "0        2     3.5       1  0.699968  Adventure|Children|Fantasy  22243\n",
       "1        2     3.0       5  0.318093  Adventure|Children|Fantasy  22243\n",
       "2        2     3.0      13  0.569927  Adventure|Children|Fantasy  22243\n",
       "3        2     3.0      29  0.893119  Adventure|Children|Fantasy  22243\n",
       "4        2     3.0      34  0.533717  Adventure|Children|Fantasy  22243"
      ]
     },
     "execution_count": 177,
     "metadata": {},
     "output_type": "execute_result"
    }
   ],
   "source": [
    "result.head()"
   ]
  },
  {
   "cell_type": "markdown",
   "metadata": {},
   "source": [
    "count везде одинаков, так и должно быть, так как movieId одинаков (это число оценок у фильма)."
   ]
  },
  {
   "cell_type": "code",
   "execution_count": 180,
   "metadata": {},
   "outputs": [],
   "source": [
    "genre_to_movies = defaultdict(set)\n",
    "\n",
    "for row in result.itertuples():\n",
    "    genres = row.genres.split(\"|\")\n",
    "    for genre in genres:\n",
    "        genre_to_movies[genre].add((row.movieId, row.count))"
   ]
  },
  {
   "cell_type": "code",
   "execution_count": 185,
   "metadata": {},
   "outputs": [],
   "source": [
    "genre_to_top_movies = {}\n",
    "\n",
    "for k, v in genre_to_movies.items():\n",
    "    genre_to_top_movies[k] = sorted(list(v), key=lambda p: -p[1])[:10]"
   ]
  },
  {
   "cell_type": "code",
   "execution_count": 269,
   "metadata": {},
   "outputs": [],
   "source": [
    "df_users_new = df_users.reset_index()"
   ]
  },
  {
   "cell_type": "code",
   "execution_count": 270,
   "metadata": {},
   "outputs": [
    {
     "data": {
      "text/plain": [
       "0.043570237871631057"
      ]
     },
     "execution_count": 270,
     "metadata": {},
     "output_type": "execute_result"
    }
   ],
   "source": [
    "class ContentBasedPredictor(object):\n",
    "    def __init__(self, train_df, test_df):\n",
    "        pass\n",
    "    \n",
    "    def predict(self, row):\n",
    "        top = list(df_users_new[df_users_new[\"userId\"] == row.userId][(\"genres\", \"popular_genres\")])\n",
    "        \n",
    "        if not top:\n",
    "            return\n",
    "        \n",
    "        top_genres = [k for k, _ in top[0]]\n",
    "        recommendations = []\n",
    "        \n",
    "        i_to_size = {0: 5, 1: 3, 2: 2}\n",
    "        for i, genre in enumerate(top_genres):\n",
    "            for movie, _ in genre_to_top_movies[genre][:i_to_size[i]]:\n",
    "                recommendations.append(movie)\n",
    "        \n",
    "        return recommendations\n",
    "    \n",
    "run_cv(ContentBasedPredictor)"
   ]
  },
  {
   "cell_type": "markdown",
   "metadata": {},
   "source": [
    "## Обзор библиотек для построения рекомендательных систем"
   ]
  },
  {
   "cell_type": "markdown",
   "metadata": {},
   "source": [
    "a. https://docs.scipy.org/doc/scipy/reference/sparse.html\n",
    "  \n",
    "  scipy.sparse и scipy.sparse.linalg.svds :)\n",
    "Можно делать коллаборативную фильтрацию подсчитывая svd разложение на разреженных матричках. Примеров в интернете полно, про сам метод будет рассказано на лекциях.\n",
    "\n",
    "\n",
    "b. http://mendeley.github.io/mrec/\n",
    "\n",
    "  Умеет подготавливать выборку, умеет считать разные популярные метрики такие как HitRate, Recall. Набор стандартных алгоритмов:\n",
    "  1. kNN (user/item based)\n",
    "  2. popularity\n",
    "  3. SLIM, WARP, WRMF\n",
    "\n",
    "\n",
    "c. http://libfm.org/\n",
    "\n",
    " Эффективная реализация модели факторизационных машин. Алгоритмы SGD, ALS.\n",
    "\n",
    "\n",
    "d. GraphLab Collaborative Filtering Toolkit (https://turi.com/products/create/docs/graphlab.toolkits.recommender.html)\n",
    "\n",
    "  Умеет SVD (ALS, SGD), SVD++, Weighted-ALS, non-negative matrix factorization.\n",
    "\n",
    "\n",
    "e. Vowpal Wabbit (https://github.com/JohnLangford/vowpal_wabbit/wiki/Matrix-factorization-example)\n",
    "\n",
    "Можно использовать разложение матрички оттуда."
   ]
  },
  {
   "cell_type": "markdown",
   "metadata": {},
   "source": [
    "## Заключение"
   ]
  },
  {
   "cell_type": "markdown",
   "metadata": {},
   "source": [
    "1. Познакомились с датасетом MovieLens\n",
    "2. Построили несколько простых моделей для рекомендаций\n",
    "3. Познакомились с распространенными библиотеками для построения рекомендательных систем"
   ]
  },
  {
   "cell_type": "markdown",
   "metadata": {},
   "source": [
    "Обратная связь и ДЗ: https://goo.gl/forms/7tyfXQHSOPHRf5Gg1"
   ]
  }
 ],
 "metadata": {
  "kernelspec": {
   "display_name": "Python 3",
   "language": "python",
   "name": "python3"
  },
  "language_info": {
   "codemirror_mode": {
    "name": "ipython",
    "version": 3
   },
   "file_extension": ".py",
   "mimetype": "text/x-python",
   "name": "python",
   "nbconvert_exporter": "python",
   "pygments_lexer": "ipython3",
   "version": "3.5.2"
  }
 },
 "nbformat": 4,
 "nbformat_minor": 2
}
