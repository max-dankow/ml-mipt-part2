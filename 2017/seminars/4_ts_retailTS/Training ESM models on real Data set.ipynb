{
 "cells": [
  {
   "cell_type": "markdown",
   "metadata": {},
   "source": [
    "<span style=\"font-size: 14pt\">MIPT, TS forecasting in Retail, Autumn 2017</span>\n",
    "\n",
    "<span style=\"font-size: 16pt\"> Training ES models </span>\n",
    "\n",
    "<span style=\"color:blue; font-size: 12pt\">Alexey Romanenko </span>,\n",
    "<span style=\"color:blue; font-size: 12pt; font-family: 'Verdana'\">alexromsput@gmail.com</span>d"
   ]
  },
  {
   "cell_type": "markdown",
   "metadata": {},
   "source": [
    "## Select best ES model for each TS \n",
    "\n",
    "* I.   Download datasets <span style=\"color:blue; font-family:'New Times Roman'; font-size:14pt\">TS_dep36.csv</span> \n",
    "     \n",
    "* II. Define the train period and validate period\n",
    "    \n",
    "* III. For TS_dep36.csv Find the best ES algorithm on Validate Period:\n",
    "     \n",
    "    - 0) Use only following ES models: IES (see seminar 2), AES (see seminar 2), Winters with additive seasonality (see Practice Day 1 task 3), Theil-Wage.\n",
    "    - 1) forecasting delay $h = 1$, loss function is MACAPE;\n",
    "    - 2) forecast each TS by each ES Model with optimal params using Validate Period (for ES model Validate Period = Train Period) (for TS_dep36.csv from 12.05.2005 to 30.04.2006);\n",
    "    \n",
    "    - 3) find the optimal ES algorithm. You need to remember optimal ES algorithm for each TS!\n",
    "    \n",
    "    - 4) Build barchar (histogram) of losses of optimal ES algorithm (were calulated at step before) for all TS (axis x - value of loss, axis y - percentage of TS that have such loss). Here you must exclude those TS which has only NaNs in period under consideration.\n",
    "            \n",
    "* IV.Compare Forecast on Validate Period and Test Period (for TS_dep36.csv from 12.05.2005 to 13.06.2006). \n",
    "       \n",
    "    - 1) Measure accuracy (loss) of forecast for each TS using dates that were not used in step 2)-3) (for TS_dep36.csv from 12.05.2005 to 30.04.2006), here you must exclude those TS which has only NaNs in the end.\n",
    "    \n",
    "    - 2) Build barchar (histogram) of losses of optimal ES algorithm for all TS (axis x - value of loss, axis y - percentage of TS that has such loss), here you must exclude those TS which has only NaNs in period under consideration."
   ]
  },
  {
   "cell_type": "code",
   "execution_count": 1,
   "metadata": {},
   "outputs": [
    {
     "name": "stderr",
     "output_type": "stream",
     "text": [
      "C:\\Users\\rusrom.EUROPE\\AppData\\Local\\Continuum\\Anaconda3\\lib\\site-packages\\statsmodels\\compat\\pandas.py:56: FutureWarning: The pandas.core.datetools module is deprecated and will be removed in a future version. Please use the pandas.tseries module instead.\n",
      "  from pandas.core import datetools\n"
     ]
    }
   ],
   "source": [
    "import pandas as pd\n",
    "import math\n",
    "import numpy as np\n",
    "from datetime import datetime, timedelta\n",
    "import matplotlib.pyplot as plt\n",
    "from IPython import display\n",
    "import statsmodels.api as sm\n",
    "from utils import qualityMACAPE, build_forecast, plot_tsforecast\n",
    "from utils import InitExponentialSmoothing, AdaptiveExponentialSmoothing, WintersExponentialSmoothing, TWExponentialSmoothing\n",
    "%matplotlib inline"
   ]
  },
  {
   "cell_type": "markdown",
   "metadata": {},
   "source": [
    "## I. Download datasets "
   ]
  },
  {
   "cell_type": "code",
   "execution_count": 2,
   "metadata": {
    "collapsed": true
   },
   "outputs": [],
   "source": [
    "# Read data\n",
    "ts = pd.read_csv('./data/TS_dep36.csv', sep=';', decimal=',', index_col='Timestamp', parse_dates=True, dayfirst=True)"
   ]
  },
  {
   "cell_type": "markdown",
   "metadata": {},
   "source": [
    "## II. Define the train period and validate period"
   ]
  },
  {
   "cell_type": "markdown",
   "metadata": {},
   "source": [
    "* Train Period (for ESM models is not necessary) '2005-05-01' - '2005-11-01'\n",
    "* Validate Period '2005-11-01'-'2006-04-30'"
   ]
  },
  {
   "cell_type": "markdown",
   "metadata": {},
   "source": [
    "## III. Find the best ES algorithm for each ts on Validate Period"
   ]
  },
  {
   "cell_type": "code",
   "execution_count": 3,
   "metadata": {
    "collapsed": true
   },
   "outputs": [],
   "source": [
    "# Forecast with IES\n",
    "ALPHA = np.linspace(0,1,11)\n",
    "es_params_array = [{'alpha':alpha, 'AdaptationPeriod':10} for alpha in ALPHA]\n",
    "IES_FRC_TS = build_forecast(h=1, ts=ts, algname =  'InitExponentialSmoothing', algtitle='IES' ,params_array = es_params_array)"
   ]
  },
  {
   "cell_type": "code",
   "execution_count": 4,
   "metadata": {
    "collapsed": true
   },
   "outputs": [],
   "source": [
    "# Forecast with AES\n",
    "GAMMA = np.linspace(0,1,11)\n",
    "aes_params_array = [{'gamma':gamma, 'alpha':0.1, 'AdaptationPeriod':10} for gamma in GAMMA]\n",
    "AES_FRC_TS = build_forecast(h=1, ts=ts, algname =  'AdaptiveExponentialSmoothing', algtitle='AES' ,params_array = aes_params_array)"
   ]
  },
  {
   "cell_type": "code",
   "execution_count": 5,
   "metadata": {
    "collapsed": true
   },
   "outputs": [],
   "source": [
    "# Forecast with WES\n",
    "GAMMA = np.linspace(0,1,11)\n",
    "wes_params_array = [{'gamma':gamma, 'alpha':0.1, 'AdaptationPeriod':10, 'seasonality_period':7} for gamma in GAMMA]\n",
    "WES_FRC_TS = build_forecast(h=1, ts=ts, algname =  'WintersExponentialSmoothing', algtitle='WES' ,params_array = wes_params_array)"
   ]
  },
  {
   "cell_type": "code",
   "execution_count": 6,
   "metadata": {
    "collapsed": true
   },
   "outputs": [],
   "source": [
    "# Forecast with TWES\n",
    "GAMMA = np.linspace(0,1,11)\n",
    "twes_params_array = [{'beta':beta, 'gamma':gamma, 'alpha':0.1, 'AdaptationPeriod':10, 'seasonality_period':7} for gamma in GAMMA for beta in GAMMA]\n",
    "TWES_FRC_TS = build_forecast(h=1, ts=ts, algname =  'WintersExponentialSmoothing', algtitle='TWES' ,params_array = twes_params_array)"
   ]
  },
  {
   "cell_type": "code",
   "execution_count": 8,
   "metadata": {},
   "outputs": [],
   "source": [
    "# Calculate Quality of Prediction on Validation Period\n",
    "ALL_FRC_TS = {**IES_FRC_TS,**AES_FRC_TS,**WES_FRC_TS,**TWES_FRC_TS}\n",
    "\n",
    "# Validation Period\n",
    "ix = ts.loc['2005-11-01':'2006-04-30'].index\n",
    "\n",
    "validate_quality = pd.DataFrame(index = ts.columns, columns = ALL_FRC_TS.keys())\n",
    "for param_cntr in sorted(validate_quality.columns):\n",
    "    frc_wage = ALL_FRC_TS[param_cntr]\n",
    "    validate_quality[param_cntr],_ = qualityMACAPE(ts.loc[ix], ALL_FRC_TS[param_cntr].loc[ix])"
   ]
  },
  {
   "cell_type": "code",
   "execution_count": 9,
   "metadata": {},
   "outputs": [
    {
     "data": {
      "text/plain": [
       "TWES {'beta': 0.5, 'gamma': 0.0, 'alpha': 0.1, 'AdaptationPeriod': 10, 'seasonality_period': 7}                    0.7095\n",
       "WES {'gamma': 0.0, 'alpha': 0.1, 'AdaptationPeriod': 10, 'seasonality_period': 7}                                  0.7095\n",
       "TWES {'beta': 1.0, 'gamma': 0.0, 'alpha': 0.1, 'AdaptationPeriod': 10, 'seasonality_period': 7}                    0.7095\n",
       "TWES {'beta': 0.90000000000000002, 'gamma': 0.0, 'alpha': 0.1, 'AdaptationPeriod': 10, 'seasonality_period': 7}    0.7095\n",
       "TWES {'beta': 0.80000000000000004, 'gamma': 0.0, 'alpha': 0.1, 'AdaptationPeriod': 10, 'seasonality_period': 7}    0.7095\n",
       "dtype: float64"
      ]
     },
     "execution_count": 9,
     "metadata": {},
     "output_type": "execute_result"
    }
   ],
   "source": [
    "# best algs in average\n",
    "validate_quality[validate_quality.columns].mean().sort_values()[:5]"
   ]
  },
  {
   "cell_type": "markdown",
   "metadata": {},
   "source": [
    "## Find best algorithm for each TS"
   ]
  },
  {
   "cell_type": "code",
   "execution_count": 27,
   "metadata": {},
   "outputs": [
    {
     "data": {
      "text/html": [
       "<div>\n",
       "<style>\n",
       "    .dataframe thead tr:only-child th {\n",
       "        text-align: right;\n",
       "    }\n",
       "\n",
       "    .dataframe thead th {\n",
       "        text-align: left;\n",
       "    }\n",
       "\n",
       "    .dataframe tbody tr th {\n",
       "        vertical-align: top;\n",
       "    }\n",
       "</style>\n",
       "<table border=\"1\" class=\"dataframe\">\n",
       "  <thead>\n",
       "    <tr style=\"text-align: right;\">\n",
       "      <th></th>\n",
       "      <th>best_alg</th>\n",
       "      <th>Loss</th>\n",
       "    </tr>\n",
       "  </thead>\n",
       "  <tbody>\n",
       "    <tr>\n",
       "      <th>item 1758</th>\n",
       "      <td>TWES {'beta': 1.0, 'gamma': 1.0, 'alpha': 0.1,...</td>\n",
       "      <td>0.586716</td>\n",
       "    </tr>\n",
       "    <tr>\n",
       "      <th>item 40010</th>\n",
       "      <td>AES {'gamma': 0.0, 'alpha': 0.1, 'AdaptationPe...</td>\n",
       "      <td>0.959692</td>\n",
       "    </tr>\n",
       "    <tr>\n",
       "      <th>item 35731</th>\n",
       "      <td>TWES {'beta': 0.80000000000000004, 'gamma': 0....</td>\n",
       "      <td>0.694606</td>\n",
       "    </tr>\n",
       "    <tr>\n",
       "      <th>item 96474</th>\n",
       "      <td>TWES {'beta': 0.0, 'gamma': 0.1000000000000000...</td>\n",
       "      <td>0.603222</td>\n",
       "    </tr>\n",
       "    <tr>\n",
       "      <th>item 97519</th>\n",
       "      <td>IES {'alpha': 0.10000000000000001, 'Adaptation...</td>\n",
       "      <td>0.907805</td>\n",
       "    </tr>\n",
       "  </tbody>\n",
       "</table>\n",
       "</div>"
      ],
      "text/plain": [
       "                                                     best_alg      Loss\n",
       "item 1758   TWES {'beta': 1.0, 'gamma': 1.0, 'alpha': 0.1,...  0.586716\n",
       "item 40010  AES {'gamma': 0.0, 'alpha': 0.1, 'AdaptationPe...  0.959692\n",
       "item 35731  TWES {'beta': 0.80000000000000004, 'gamma': 0....  0.694606\n",
       "item 96474  TWES {'beta': 0.0, 'gamma': 0.1000000000000000...  0.603222\n",
       "item 97519  IES {'alpha': 0.10000000000000001, 'Adaptation...  0.907805"
      ]
     },
     "execution_count": 27,
     "metadata": {},
     "output_type": "execute_result"
    }
   ],
   "source": [
    "validate_quality[validate_quality<0]=np.NAN\n",
    "best_alg = pd.DataFrame(index=ts.columns, columns = {'Loss', 'best_alg'},\n",
    "        data=[(validate_quality.loc[item].sort_values().index[0], validate_quality.loc[item].sort_values()[0] ) for item in ts.columns])\n",
    "best_alg.head()"
   ]
  },
  {
   "cell_type": "code",
   "execution_count": 29,
   "metadata": {},
   "outputs": [
    {
     "data": {
      "text/html": [
       "<div>\n",
       "<style>\n",
       "    .dataframe thead tr:only-child th {\n",
       "        text-align: right;\n",
       "    }\n",
       "\n",
       "    .dataframe thead th {\n",
       "        text-align: left;\n",
       "    }\n",
       "\n",
       "    .dataframe tbody tr th {\n",
       "        vertical-align: top;\n",
       "    }\n",
       "</style>\n",
       "<table border=\"1\" class=\"dataframe\">\n",
       "  <thead>\n",
       "    <tr style=\"text-align: right;\">\n",
       "      <th></th>\n",
       "      <th>best_alg</th>\n",
       "      <th>Loss</th>\n",
       "    </tr>\n",
       "  </thead>\n",
       "  <tbody>\n",
       "    <tr>\n",
       "      <th>item 1758</th>\n",
       "      <td>TWES {'beta': 1.0, 'gamma': 1.0, 'alpha': 0.1,...</td>\n",
       "      <td>0.586716</td>\n",
       "    </tr>\n",
       "    <tr>\n",
       "      <th>item 40010</th>\n",
       "      <td>AES {'gamma': 0.0, 'alpha': 0.1, 'AdaptationPe...</td>\n",
       "      <td>0.959692</td>\n",
       "    </tr>\n",
       "    <tr>\n",
       "      <th>item 35731</th>\n",
       "      <td>TWES {'beta': 0.80000000000000004, 'gamma': 0....</td>\n",
       "      <td>0.694606</td>\n",
       "    </tr>\n",
       "    <tr>\n",
       "      <th>item 96474</th>\n",
       "      <td>TWES {'beta': 0.0, 'gamma': 0.1000000000000000...</td>\n",
       "      <td>0.603222</td>\n",
       "    </tr>\n",
       "    <tr>\n",
       "      <th>item 97519</th>\n",
       "      <td>IES {'alpha': 0.10000000000000001, 'Adaptation...</td>\n",
       "      <td>0.907805</td>\n",
       "    </tr>\n",
       "  </tbody>\n",
       "</table>\n",
       "</div>"
      ],
      "text/plain": [
       "                                                     best_alg      Loss\n",
       "item 1758   TWES {'beta': 1.0, 'gamma': 1.0, 'alpha': 0.1,...  0.586716\n",
       "item 40010  AES {'gamma': 0.0, 'alpha': 0.1, 'AdaptationPe...  0.959692\n",
       "item 35731  TWES {'beta': 0.80000000000000004, 'gamma': 0....  0.694606\n",
       "item 96474  TWES {'beta': 0.0, 'gamma': 0.1000000000000000...  0.603222\n",
       "item 97519  IES {'alpha': 0.10000000000000001, 'Adaptation...  0.907805"
      ]
     },
     "execution_count": 29,
     "metadata": {},
     "output_type": "execute_result"
    }
   ],
   "source": [
    "# Exclude TS where all values were NaN\n",
    "best_alg.loc[~np.isnan(best_alg.loc[:,'Loss'])].head()"
   ]
  },
  {
   "cell_type": "markdown",
   "metadata": {},
   "source": [
    "## Build barchar (histogram) of losses of the optimal ES algorithm\n",
    "Build the histogram of best Accuracy distribution"
   ]
  },
  {
   "cell_type": "code",
   "execution_count": 30,
   "metadata": {},
   "outputs": [
    {
     "data": {
      "text/plain": [
       "array([[<matplotlib.axes._subplots.AxesSubplot object at 0x0000022DAD1305F8>]], dtype=object)"
      ]
     },
     "execution_count": 30,
     "metadata": {},
     "output_type": "execute_result"
    },
    {
     "data": {
      "image/png": "[encoded data removed]",
      "text/plain": [
       "<matplotlib.figure.Figure at 0x22db0fc6748>"
      ]
     },
     "metadata": {},
     "output_type": "display_data"
    }
   ],
   "source": [
    "best_alg.loc[~np.isnan(best_alg.loc[:,'Loss']), ['Loss']].hist(figsize=(15,5))"
   ]
  },
  {
   "cell_type": "markdown",
   "metadata": {},
   "source": [
    "# IV. Compare Forecast on Validate Period and Test Period\n",
    "Use whole data to make prediction. Note that each TS predicted individually by one's best model."
   ]
  },
  {
   "cell_type": "code",
   "execution_count": 31,
   "metadata": {},
   "outputs": [],
   "source": [
    "# Test Period\n",
    "ix = ts.loc['2006-04-30':'2006-06-13'].index\n",
    "\n",
    "test_quality = pd.DataFrame(index = ts.columns, columns = ALL_FRC_TS.keys())\n",
    "for param_cntr in sorted(test_quality.columns):\n",
    "    frc_wage = ALL_FRC_TS[param_cntr]\n",
    "    test_quality[param_cntr],_ = qualityMACAPE(ts.loc[ix], ALL_FRC_TS[param_cntr].loc[ix])"
   ]
  },
  {
   "cell_type": "code",
   "execution_count": 32,
   "metadata": {},
   "outputs": [],
   "source": [
    "test_quality[test_quality<0]=np.NAN\n",
    "best_alg['Test_Loss'] = [test_quality.loc[item, best_alg.loc[item, 'best_alg']] for item in best_alg.index]"
   ]
  },
  {
   "cell_type": "code",
   "execution_count": 33,
   "metadata": {},
   "outputs": [
    {
     "data": {
      "text/html": [
       "<div>\n",
       "<style>\n",
       "    .dataframe thead tr:only-child th {\n",
       "        text-align: right;\n",
       "    }\n",
       "\n",
       "    .dataframe thead th {\n",
       "        text-align: left;\n",
       "    }\n",
       "\n",
       "    .dataframe tbody tr th {\n",
       "        vertical-align: top;\n",
       "    }\n",
       "</style>\n",
       "<table border=\"1\" class=\"dataframe\">\n",
       "  <thead>\n",
       "    <tr style=\"text-align: right;\">\n",
       "      <th></th>\n",
       "      <th>best_alg</th>\n",
       "      <th>Loss</th>\n",
       "      <th>Test_Loss</th>\n",
       "    </tr>\n",
       "  </thead>\n",
       "  <tbody>\n",
       "    <tr>\n",
       "      <th>item 1758</th>\n",
       "      <td>TWES {'beta': 1.0, 'gamma': 1.0, 'alpha': 0.1,...</td>\n",
       "      <td>0.586716</td>\n",
       "      <td>1.118026</td>\n",
       "    </tr>\n",
       "    <tr>\n",
       "      <th>item 40010</th>\n",
       "      <td>AES {'gamma': 0.0, 'alpha': 0.1, 'AdaptationPe...</td>\n",
       "      <td>0.959692</td>\n",
       "      <td>0.940219</td>\n",
       "    </tr>\n",
       "    <tr>\n",
       "      <th>item 35731</th>\n",
       "      <td>TWES {'beta': 0.80000000000000004, 'gamma': 0....</td>\n",
       "      <td>0.694606</td>\n",
       "      <td>1.271564</td>\n",
       "    </tr>\n",
       "    <tr>\n",
       "      <th>item 97519</th>\n",
       "      <td>IES {'alpha': 0.10000000000000001, 'Adaptation...</td>\n",
       "      <td>0.907805</td>\n",
       "      <td>1.027464</td>\n",
       "    </tr>\n",
       "    <tr>\n",
       "      <th>item 75501</th>\n",
       "      <td>TWES {'beta': 1.0, 'gamma': 0.0, 'alpha': 0.1,...</td>\n",
       "      <td>0.319443</td>\n",
       "      <td>0.905749</td>\n",
       "    </tr>\n",
       "  </tbody>\n",
       "</table>\n",
       "</div>"
      ],
      "text/plain": [
       "                                                     best_alg      Loss  \\\n",
       "item 1758   TWES {'beta': 1.0, 'gamma': 1.0, 'alpha': 0.1,...  0.586716   \n",
       "item 40010  AES {'gamma': 0.0, 'alpha': 0.1, 'AdaptationPe...  0.959692   \n",
       "item 35731  TWES {'beta': 0.80000000000000004, 'gamma': 0....  0.694606   \n",
       "item 97519  IES {'alpha': 0.10000000000000001, 'Adaptation...  0.907805   \n",
       "item 75501  TWES {'beta': 1.0, 'gamma': 0.0, 'alpha': 0.1,...  0.319443   \n",
       "\n",
       "            Test_Loss  \n",
       "item 1758    1.118026  \n",
       "item 40010   0.940219  \n",
       "item 35731   1.271564  \n",
       "item 97519   1.027464  \n",
       "item 75501   0.905749  "
      ]
     },
     "execution_count": 33,
     "metadata": {},
     "output_type": "execute_result"
    }
   ],
   "source": [
    "# Exclude TS where all values were NaN\n",
    "best_alg.loc[(~np.isnan(best_alg.loc[:,'Loss']) & ~np.isnan(best_alg.loc[:,'Test_Loss']))].head()"
   ]
  },
  {
   "cell_type": "code",
   "execution_count": 34,
   "metadata": {},
   "outputs": [
    {
     "data": {
      "text/plain": [
       "array([[<matplotlib.axes._subplots.AxesSubplot object at 0x0000022DAD1BDCF8>,\n",
       "        <matplotlib.axes._subplots.AxesSubplot object at 0x0000022DB0DDDB38>]], dtype=object)"
      ]
     },
     "execution_count": 34,
     "metadata": {},
     "output_type": "execute_result"
    },
    {
     "data": {
      "image/png": "[encoded data removed]",
      "text/plain": [
       "<matplotlib.figure.Figure at 0x22dad0a9e10>"
      ]
     },
     "metadata": {},
     "output_type": "display_data"
    }
   ],
   "source": [
    "# plot barchar\n",
    "best_alg.loc[(~np.isnan(best_alg.loc[:,'Loss']) & ~np.isnan(best_alg.loc[:,'Test_Loss'])), ['Loss', 'Test_Loss']].hist(figsize =(15,5))"
   ]
  },
  {
   "cell_type": "code",
   "execution_count": 35,
   "metadata": {},
   "outputs": [
    {
     "data": {
      "text/html": [
       "<div>\n",
       "<style>\n",
       "    .dataframe thead tr:only-child th {\n",
       "        text-align: right;\n",
       "    }\n",
       "\n",
       "    .dataframe thead th {\n",
       "        text-align: left;\n",
       "    }\n",
       "\n",
       "    .dataframe tbody tr th {\n",
       "        vertical-align: top;\n",
       "    }\n",
       "</style>\n",
       "<table border=\"1\" class=\"dataframe\">\n",
       "  <thead>\n",
       "    <tr style=\"text-align: right;\">\n",
       "      <th></th>\n",
       "      <th>Loss</th>\n",
       "      <th>Test_Loss</th>\n",
       "    </tr>\n",
       "  </thead>\n",
       "  <tbody>\n",
       "    <tr>\n",
       "      <th>amin</th>\n",
       "      <td>0.117361</td>\n",
       "      <td>0.168302</td>\n",
       "    </tr>\n",
       "    <tr>\n",
       "      <th>amax</th>\n",
       "      <td>1.247511</td>\n",
       "      <td>4.010433</td>\n",
       "    </tr>\n",
       "    <tr>\n",
       "      <th>mean</th>\n",
       "      <td>0.671356</td>\n",
       "      <td>0.835555</td>\n",
       "    </tr>\n",
       "  </tbody>\n",
       "</table>\n",
       "</div>"
      ],
      "text/plain": [
       "          Loss  Test_Loss\n",
       "amin  0.117361   0.168302\n",
       "amax  1.247511   4.010433\n",
       "mean  0.671356   0.835555"
      ]
     },
     "execution_count": 35,
     "metadata": {},
     "output_type": "execute_result"
    }
   ],
   "source": [
    "# statistics to compare losses on validate and test periods\n",
    "best_alg.loc[(~np.isnan(best_alg.loc[:,'Loss']) & ~np.isnan(best_alg.loc[:,'Test_Loss'])), ['Loss', 'Test_Loss']].agg(\n",
    "    {'Loss' : [np.min, np.max, np.mean],\n",
    "        'Test_Loss' : [np.min, np.max, np.mean]})"
   ]
  },
  {
   "cell_type": "code",
   "execution_count": 36,
   "metadata": {},
   "outputs": [
    {
     "data": {
      "text/html": [
       "<div>\n",
       "<style>\n",
       "    .dataframe thead tr:only-child th {\n",
       "        text-align: right;\n",
       "    }\n",
       "\n",
       "    .dataframe thead th {\n",
       "        text-align: left;\n",
       "    }\n",
       "\n",
       "    .dataframe tbody tr th {\n",
       "        vertical-align: top;\n",
       "    }\n",
       "</style>\n",
       "<table border=\"1\" class=\"dataframe\">\n",
       "  <thead>\n",
       "    <tr style=\"text-align: right;\">\n",
       "      <th></th>\n",
       "      <th>0.01</th>\n",
       "      <th>0.1</th>\n",
       "      <th>0.2</th>\n",
       "      <th>0.3</th>\n",
       "      <th>0.4</th>\n",
       "      <th>0.5</th>\n",
       "      <th>0.6</th>\n",
       "      <th>0.7</th>\n",
       "      <th>0.8</th>\n",
       "      <th>0.9</th>\n",
       "      <th>0.95</th>\n",
       "      <th>0.99</th>\n",
       "      <th>1.0</th>\n",
       "    </tr>\n",
       "  </thead>\n",
       "  <tbody>\n",
       "    <tr>\n",
       "      <th>Loss</th>\n",
       "      <td>0.167863</td>\n",
       "      <td>0.317747</td>\n",
       "      <td>0.437792</td>\n",
       "      <td>0.524059</td>\n",
       "      <td>0.617298</td>\n",
       "      <td>0.674559</td>\n",
       "      <td>0.768037</td>\n",
       "      <td>0.828420</td>\n",
       "      <td>0.893692</td>\n",
       "      <td>0.969597</td>\n",
       "      <td>1.057033</td>\n",
       "      <td>1.150976</td>\n",
       "      <td>1.247511</td>\n",
       "    </tr>\n",
       "    <tr>\n",
       "      <th>Test_Loss</th>\n",
       "      <td>0.239682</td>\n",
       "      <td>0.438047</td>\n",
       "      <td>0.506172</td>\n",
       "      <td>0.606692</td>\n",
       "      <td>0.677839</td>\n",
       "      <td>0.777761</td>\n",
       "      <td>0.854718</td>\n",
       "      <td>0.978452</td>\n",
       "      <td>1.092108</td>\n",
       "      <td>1.220416</td>\n",
       "      <td>1.339406</td>\n",
       "      <td>1.978678</td>\n",
       "      <td>4.010433</td>\n",
       "    </tr>\n",
       "  </tbody>\n",
       "</table>\n",
       "</div>"
      ],
      "text/plain": [
       "               0.01      0.10      0.20      0.30      0.40      0.50  \\\n",
       "Loss       0.167863  0.317747  0.437792  0.524059  0.617298  0.674559   \n",
       "Test_Loss  0.239682  0.438047  0.506172  0.606692  0.677839  0.777761   \n",
       "\n",
       "               0.60      0.70      0.80      0.90      0.95      0.99  \\\n",
       "Loss       0.768037  0.828420  0.893692  0.969597  1.057033  1.150976   \n",
       "Test_Loss  0.854718  0.978452  1.092108  1.220416  1.339406  1.978678   \n",
       "\n",
       "               1.00  \n",
       "Loss       1.247511  \n",
       "Test_Loss  4.010433  "
      ]
     },
     "execution_count": 36,
     "metadata": {},
     "output_type": "execute_result"
    }
   ],
   "source": [
    "# quantiles of values\n",
    "best_alg.quantile([.01, .1, .2, .3, .4, .5, .6, .7, .8, .9, .95, .99, 1]).transpose()"
   ]
  },
  {
   "cell_type": "markdown",
   "metadata": {},
   "source": [
    "** Conclusion **\n",
    "    * loss on validation period is more optimistic then loss on test period\n",
    "    * you can "
   ]
  }
 ],
 "metadata": {
  "anaconda-cloud": {},
  "kernelspec": {
   "display_name": "Python 3",
   "language": "python",
   "name": "python3"
  },
  "language_info": {
   "codemirror_mode": {
    "name": "ipython",
    "version": 3
   },
   "file_extension": ".py",
   "mimetype": "text/x-python",
   "name": "python",
   "nbconvert_exporter": "python",
   "pygments_lexer": "ipython3",
   "version": "3.6.1"
  }
 },
 "nbformat": 4,
 "nbformat_minor": 1
}
