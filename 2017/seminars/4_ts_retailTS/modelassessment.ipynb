{
 "cells": [
  {
   "cell_type": "markdown",
   "metadata": {},
   "source": [
    "<span style=\"font-size: 14pt\">MIPT, Autumn 2017</span>\n",
    "\n",
    "<span style=\"font-size: 16pt\"> Example of using Test sample VS Validation Sample\n",
    "\n",
    "<span style=\"color:blue; font-size: 12pt\">Alexey Romanenko </span>,\n",
    "<span style=\"color:blue; font-size: 12pt; font-family: 'Verdana'\">alexromsput@gmail.com</span>"
   ]
  },
  {
   "cell_type": "markdown",
   "metadata": {},
   "source": [
    "## Generate train sample"
   ]
  },
  {
   "cell_type": "code",
   "execution_count": 13,
   "metadata": {},
   "outputs": [],
   "source": [
    "import pandas as pd\n",
    "from random import SystemRandom, normalvariate\n",
    "import numpy as np\n",
    "%matplotlib inline\n",
    "\n",
    "L = 50\n",
    "d = 1000\n",
    "\n",
    "gen_train = pd.DataFrame.from_records([\n",
    "        [ SystemRandom().randint(0,1)]+ [normalvariate(0, 1) for j in range(d)] \n",
    "        for i in range(L)\n",
    "    ], columns = ['Label']+ ['F'+str(j)  for j in range(d)])"
   ]
  },
  {
   "cell_type": "code",
   "execution_count": 14,
   "metadata": {},
   "outputs": [
    {
     "data": {
      "text/html": [
       "<div>\n",
       "<style>\n",
       "    .dataframe thead tr:only-child th {\n",
       "        text-align: right;\n",
       "    }\n",
       "\n",
       "    .dataframe thead th {\n",
       "        text-align: left;\n",
       "    }\n",
       "\n",
       "    .dataframe tbody tr th {\n",
       "        vertical-align: top;\n",
       "    }\n",
       "</style>\n",
       "<table border=\"1\" class=\"dataframe\">\n",
       "  <thead>\n",
       "    <tr style=\"text-align: right;\">\n",
       "      <th></th>\n",
       "      <th>Label</th>\n",
       "      <th>F0</th>\n",
       "      <th>F1</th>\n",
       "      <th>F2</th>\n",
       "      <th>F3</th>\n",
       "      <th>F4</th>\n",
       "      <th>F5</th>\n",
       "      <th>F6</th>\n",
       "      <th>F7</th>\n",
       "      <th>F8</th>\n",
       "      <th>...</th>\n",
       "      <th>F990</th>\n",
       "      <th>F991</th>\n",
       "      <th>F992</th>\n",
       "      <th>F993</th>\n",
       "      <th>F994</th>\n",
       "      <th>F995</th>\n",
       "      <th>F996</th>\n",
       "      <th>F997</th>\n",
       "      <th>F998</th>\n",
       "      <th>F999</th>\n",
       "    </tr>\n",
       "  </thead>\n",
       "  <tbody>\n",
       "    <tr>\n",
       "      <th>0</th>\n",
       "      <td>1</td>\n",
       "      <td>0.240696</td>\n",
       "      <td>-0.201420</td>\n",
       "      <td>1.648569</td>\n",
       "      <td>0.998323</td>\n",
       "      <td>-1.729120</td>\n",
       "      <td>0.819548</td>\n",
       "      <td>0.035348</td>\n",
       "      <td>0.811402</td>\n",
       "      <td>0.307960</td>\n",
       "      <td>...</td>\n",
       "      <td>-0.154711</td>\n",
       "      <td>-0.935731</td>\n",
       "      <td>0.243772</td>\n",
       "      <td>0.298846</td>\n",
       "      <td>-0.059489</td>\n",
       "      <td>-1.475532</td>\n",
       "      <td>1.115265</td>\n",
       "      <td>-0.308134</td>\n",
       "      <td>-0.055387</td>\n",
       "      <td>0.254099</td>\n",
       "    </tr>\n",
       "    <tr>\n",
       "      <th>1</th>\n",
       "      <td>1</td>\n",
       "      <td>1.277578</td>\n",
       "      <td>0.283884</td>\n",
       "      <td>1.566567</td>\n",
       "      <td>-0.188628</td>\n",
       "      <td>0.906508</td>\n",
       "      <td>0.788243</td>\n",
       "      <td>0.560542</td>\n",
       "      <td>-0.740028</td>\n",
       "      <td>-0.353834</td>\n",
       "      <td>...</td>\n",
       "      <td>-1.197793</td>\n",
       "      <td>-0.628994</td>\n",
       "      <td>2.180549</td>\n",
       "      <td>-0.220646</td>\n",
       "      <td>0.438164</td>\n",
       "      <td>-0.649132</td>\n",
       "      <td>1.083327</td>\n",
       "      <td>0.206956</td>\n",
       "      <td>-0.060746</td>\n",
       "      <td>-0.983000</td>\n",
       "    </tr>\n",
       "    <tr>\n",
       "      <th>2</th>\n",
       "      <td>1</td>\n",
       "      <td>1.312756</td>\n",
       "      <td>-0.906529</td>\n",
       "      <td>-0.378490</td>\n",
       "      <td>-1.156332</td>\n",
       "      <td>0.624507</td>\n",
       "      <td>-0.522551</td>\n",
       "      <td>-1.612559</td>\n",
       "      <td>-2.487033</td>\n",
       "      <td>-1.628831</td>\n",
       "      <td>...</td>\n",
       "      <td>0.312245</td>\n",
       "      <td>0.965721</td>\n",
       "      <td>-1.160652</td>\n",
       "      <td>1.375409</td>\n",
       "      <td>0.032482</td>\n",
       "      <td>-0.656771</td>\n",
       "      <td>-0.790573</td>\n",
       "      <td>-0.314577</td>\n",
       "      <td>0.653530</td>\n",
       "      <td>-0.020078</td>\n",
       "    </tr>\n",
       "    <tr>\n",
       "      <th>3</th>\n",
       "      <td>1</td>\n",
       "      <td>-0.152483</td>\n",
       "      <td>0.234550</td>\n",
       "      <td>0.663049</td>\n",
       "      <td>-0.214997</td>\n",
       "      <td>0.744995</td>\n",
       "      <td>-0.890248</td>\n",
       "      <td>-1.091272</td>\n",
       "      <td>-0.447831</td>\n",
       "      <td>0.738802</td>\n",
       "      <td>...</td>\n",
       "      <td>-1.516400</td>\n",
       "      <td>-0.940689</td>\n",
       "      <td>1.476326</td>\n",
       "      <td>-1.086129</td>\n",
       "      <td>0.525550</td>\n",
       "      <td>-0.633519</td>\n",
       "      <td>0.534421</td>\n",
       "      <td>-0.513696</td>\n",
       "      <td>0.412569</td>\n",
       "      <td>-0.596364</td>\n",
       "    </tr>\n",
       "    <tr>\n",
       "      <th>4</th>\n",
       "      <td>0</td>\n",
       "      <td>-0.134706</td>\n",
       "      <td>0.180438</td>\n",
       "      <td>-1.584200</td>\n",
       "      <td>0.773097</td>\n",
       "      <td>0.162713</td>\n",
       "      <td>0.818267</td>\n",
       "      <td>-1.618798</td>\n",
       "      <td>-1.203875</td>\n",
       "      <td>0.306797</td>\n",
       "      <td>...</td>\n",
       "      <td>-1.081359</td>\n",
       "      <td>0.676208</td>\n",
       "      <td>-2.356510</td>\n",
       "      <td>0.514933</td>\n",
       "      <td>0.793987</td>\n",
       "      <td>-0.145770</td>\n",
       "      <td>-1.580970</td>\n",
       "      <td>0.023723</td>\n",
       "      <td>0.102573</td>\n",
       "      <td>1.326480</td>\n",
       "    </tr>\n",
       "  </tbody>\n",
       "</table>\n",
       "<p>5 rows × 1001 columns</p>\n",
       "</div>"
      ],
      "text/plain": [
       "   Label        F0        F1        F2        F3        F4        F5  \\\n",
       "0      1  0.240696 -0.201420  1.648569  0.998323 -1.729120  0.819548   \n",
       "1      1  1.277578  0.283884  1.566567 -0.188628  0.906508  0.788243   \n",
       "2      1  1.312756 -0.906529 -0.378490 -1.156332  0.624507 -0.522551   \n",
       "3      1 -0.152483  0.234550  0.663049 -0.214997  0.744995 -0.890248   \n",
       "4      0 -0.134706  0.180438 -1.584200  0.773097  0.162713  0.818267   \n",
       "\n",
       "         F6        F7        F8    ...         F990      F991      F992  \\\n",
       "0  0.035348  0.811402  0.307960    ...    -0.154711 -0.935731  0.243772   \n",
       "1  0.560542 -0.740028 -0.353834    ...    -1.197793 -0.628994  2.180549   \n",
       "2 -1.612559 -2.487033 -1.628831    ...     0.312245  0.965721 -1.160652   \n",
       "3 -1.091272 -0.447831  0.738802    ...    -1.516400 -0.940689  1.476326   \n",
       "4 -1.618798 -1.203875  0.306797    ...    -1.081359  0.676208 -2.356510   \n",
       "\n",
       "       F993      F994      F995      F996      F997      F998      F999  \n",
       "0  0.298846 -0.059489 -1.475532  1.115265 -0.308134 -0.055387  0.254099  \n",
       "1 -0.220646  0.438164 -0.649132  1.083327  0.206956 -0.060746 -0.983000  \n",
       "2  1.375409  0.032482 -0.656771 -0.790573 -0.314577  0.653530 -0.020078  \n",
       "3 -1.086129  0.525550 -0.633519  0.534421 -0.513696  0.412569 -0.596364  \n",
       "4  0.514933  0.793987 -0.145770 -1.580970  0.023723  0.102573  1.326480  \n",
       "\n",
       "[5 rows x 1001 columns]"
      ]
     },
     "execution_count": 14,
     "metadata": {},
     "output_type": "execute_result"
    }
   ],
   "source": [
    "gen_train.head() # label - random Binary variable, columns -random variable from N(0,1)"
   ]
  },
  {
   "cell_type": "code",
   "execution_count": 15,
   "metadata": {},
   "outputs": [
    {
     "data": {
      "text/plain": [
       "Label\n",
       "0    21\n",
       "1    29\n",
       "Name: Label, dtype: int64"
      ]
     },
     "execution_count": 15,
     "metadata": {},
     "output_type": "execute_result"
    }
   ],
   "source": [
    "gen_train.groupby(['Label'])['Label'].count()"
   ]
  },
  {
   "cell_type": "code",
   "execution_count": 16,
   "metadata": {},
   "outputs": [
    {
     "data": {
      "text/plain": [
       "<matplotlib.axes._subplots.AxesSubplot at 0x26d95228f28>"
      ]
     },
     "execution_count": 16,
     "metadata": {},
     "output_type": "execute_result"
    },
    {
     "data": {
      "image/png": "[encoded data removed]",
      "text/plain": [
       "<matplotlib.figure.Figure at 0x26d91430c50>"
      ]
     },
     "metadata": {},
     "output_type": "display_data"
    }
   ],
   "source": [
    "gen_train['F13'].hist()"
   ]
  },
  {
   "cell_type": "code",
   "execution_count": 17,
   "metadata": {},
   "outputs": [],
   "source": [
    "from sklearn.tree import DecisionTreeClassifier\n",
    "from sklearn.neighbors import KNeighborsClassifier\n",
    "\n",
    "from sklearn.cross_validation import StratifiedKFold\n",
    "from sklearn.metrics import accuracy_score\n",
    "\n",
    "def qFold_accuracy(x,y, estimator, cv_strategy):\n",
    "    score = 0\n",
    "    for train_indices, test_indices in cv_strategy:\n",
    "        estimator.fit(x[train_indices], y[train_indices])\n",
    "        score += estimator.score(x[test_indices], y[test_indices])\n",
    "    return score/len(cv_strategy)"
   ]
  },
  {
   "cell_type": "markdown",
   "metadata": {},
   "source": [
    "## q-Fold on train sample"
   ]
  },
  {
   "cell_type": "code",
   "execution_count": 41,
   "metadata": {},
   "outputs": [],
   "source": [
    "# Проводим эксперимент по нестройке классификатора, опирающегося на 1 признак\n",
    "\n",
    "max_score = 0\n",
    "f=0 \n",
    "cv_k = 10\n",
    "# kf = KFold(L,cv_k)                                 \n",
    "kf = StratifiedKFold(np.asarray(gen_train['Label']), cv_k, shuffle = True) \n",
    "for j in range(1,d+1):       # номер признака\n",
    "    #    print '\\n', '\\n' #, kf_1\n",
    "\n",
    "    scrrr  = qFold_accuracy(np.asarray(gen_train[[gen_train.columns[j]]]),np.asarray(gen_train[['Label']]).ravel(),\n",
    "                            KNeighborsClassifier(n_neighbors=1), kf)\n",
    "#    print i,\"-th feature = \",scrrr\n",
    "    if(scrrr > max_score):\n",
    "        max_score = scrrr\n",
    "        f = j-1"
   ]
  },
  {
   "cell_type": "code",
   "execution_count": 42,
   "metadata": {},
   "outputs": [
    {
     "name": "stdout",
     "output_type": "stream",
     "text": [
      "Score on Validation Set (CV1) 86.00%\n",
      "Best feature №: 916\n"
     ]
    }
   ],
   "source": [
    "print('Score on Validation Set (CV1) %.2f%%' % (max_score*100))\n",
    "print('Best feature №:',f)"
   ]
  },
  {
   "cell_type": "markdown",
   "metadata": {},
   "source": [
    "## Assessment on estimation set"
   ]
  },
  {
   "cell_type": "code",
   "execution_count": 45,
   "metadata": {},
   "outputs": [],
   "source": [
    "# estimation set\n",
    "gen_test = pd.DataFrame.from_records([\n",
    "        [ SystemRandom().randint(0,1)]+ [normalvariate(0, 1) for j in range(1)] \n",
    "        for i in range(100)\n",
    "    ], columns = ['Label']+ ['F'+str(j)  for j in range(1)])"
   ]
  },
  {
   "cell_type": "code",
   "execution_count": 46,
   "metadata": {},
   "outputs": [
    {
     "name": "stdout",
     "output_type": "stream",
     "text": [
      "Score on Validation Set (CV1) 50.00%\n"
     ]
    }
   ],
   "source": [
    "# True score on Test Set\n",
    "clf = DecisionTreeClassifier()\n",
    "clf.fit(np.asarray(gen_train[['F'+str(f)]]), np.asarray(gen_train[['Label']]))\n",
    "\n",
    "print('Score on Validation Set (CV1) %.2f%%' % (100*accuracy_score(clf.predict(np.asarray(gen_test[['F0']])), np.asarray(gen_test[['Label']]))))"
   ]
  }
 ],
 "metadata": {
  "kernelspec": {
   "display_name": "Python 3",
   "language": "python",
   "name": "python3"
  },
  "language_info": {
   "codemirror_mode": {
    "name": "ipython",
    "version": 3
   },
   "file_extension": ".py",
   "mimetype": "text/x-python",
   "name": "python",
   "nbconvert_exporter": "python",
   "pygments_lexer": "ipython3",
   "version": "3.6.1"
  }
 },
 "nbformat": 4,
 "nbformat_minor": 1
}
