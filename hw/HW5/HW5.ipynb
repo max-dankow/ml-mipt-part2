{
 "cells": [
  {
   "cell_type": "markdown",
   "metadata": {
    "deletable": true,
    "editable": true
   },
   "source": [
    "# Simple q-learning agent with experience replay\n",
    "\n",
    "We re-write q-learning algorithm using _agentnet_ - a helper for lasagne that implements some RL techniques."
   ]
  },
  {
   "cell_type": "code",
   "execution_count": 1,
   "metadata": {
    "collapsed": false,
    "deletable": true,
    "editable": true
   },
   "outputs": [
    {
     "name": "stdout",
     "output_type": "stream",
     "text": [
      "Collecting https://github.com/yandexdataschool/AgentNet/archive/master.zip\n",
      "  Downloading https://github.com/yandexdataschool/AgentNet/archive/master.zip (11.7MB)\n",
      "\u001b[K    100% |████████████████████████████████| 11.7MB 85kB/s eta 0:00:01\n",
      "\u001b[?25hRequirement already up-to-date: six in /usr/local/lib/python2.7/site-packages (from agentnet==0.10.6)\n",
      "Requirement already up-to-date: lasagne in /usr/local/lib/python2.7/site-packages (from agentnet==0.10.6)\n",
      "Requirement already up-to-date: theano>=0.8.2 in /usr/local/lib/python2.7/site-packages (from agentnet==0.10.6)\n",
      "Requirement already up-to-date: numpy>=1.9 in /usr/local/lib/python2.7/site-packages (from agentnet==0.10.6)\n",
      "Requirement already up-to-date: scipy>=0.14 in /usr/local/lib/python2.7/site-packages (from theano>=0.8.2->agentnet==0.10.6)\n",
      "Installing collected packages: agentnet\n",
      "  Found existing installation: agentnet 0.10.6\n",
      "    Uninstalling agentnet-0.10.6:\n",
      "      Successfully uninstalled agentnet-0.10.6\n",
      "  Running setup.py install for agentnet ... \u001b[?25l-\b \b\\\b \b|\b \bdone\n",
      "\u001b[?25hSuccessfully installed agentnet-0.10.6\n"
     ]
    }
   ],
   "source": [
    "! pip install --upgrade https://github.com/yandexdataschool/AgentNet/archive/master.zip"
   ]
  },
  {
   "cell_type": "code",
   "execution_count": 1,
   "metadata": {
    "collapsed": false,
    "deletable": true,
    "editable": true
   },
   "outputs": [
    {
     "name": "stdout",
     "output_type": "stream",
     "text": [
      "env: THEANO_FLAGS='floatX=float32'\n"
     ]
    }
   ],
   "source": [
    "import matplotlib.pyplot as plt\n",
    "%matplotlib inline\n",
    "import numpy as np\n",
    "%env THEANO_FLAGS='floatX=float32'\n",
    "\n",
    "#XVFB will be launched if you run on a server\n",
    "import os\n",
    "if type(os.environ.get(\"DISPLAY\")) is not str or len(os.environ.get(\"DISPLAY\"))==0:\n",
    "    !bash ../xvfb start\n",
    "    %env DISPLAY=:1"
   ]
  },
  {
   "cell_type": "markdown",
   "metadata": {
    "deletable": true,
    "editable": true
   },
   "source": [
    "### Experiment setup\n",
    "* Here we simply load the game and check that it works"
   ]
  },
  {
   "cell_type": "code",
   "execution_count": 2,
   "metadata": {
    "collapsed": false,
    "deletable": true,
    "editable": true
   },
   "outputs": [
    {
     "name": "stderr",
     "output_type": "stream",
     "text": [
      "[2018-02-02 23:29:21,208] Making new env: LunarLander-v2\n"
     ]
    }
   ],
   "source": [
    "import gym\n",
    "make_env = lambda: gym.make(\"LunarLander-v2\")\n",
    "\n",
    "env=make_env()\n",
    "env.reset()\n",
    "\n",
    "state_shape = env.observation_space.shape\n",
    "n_actions = env.action_space.n"
   ]
  },
  {
   "cell_type": "code",
   "execution_count": 3,
   "metadata": {
    "collapsed": false,
    "deletable": true,
    "editable": true
   },
   "outputs": [
    {
     "data": {
      "image/png": "[encoded data removed]",
      "text/plain": [
       "<matplotlib.figure.Figure at 0x1085b78d0>"
      ]
     },
     "metadata": {},
     "output_type": "display_data"
    }
   ],
   "source": [
    "plt.imshow(env.render(\"rgb_array\"))\n",
    "del env"
   ]
  },
  {
   "cell_type": "markdown",
   "metadata": {
    "deletable": true,
    "editable": true
   },
   "source": [
    "# Neural Network body"
   ]
  },
  {
   "cell_type": "code",
   "execution_count": 4,
   "metadata": {
    "collapsed": false,
    "deletable": true,
    "editable": true
   },
   "outputs": [],
   "source": [
    "import lasagne\n",
    "from lasagne.layers import *\n",
    "from lasagne.nonlinearities import elu\n",
    "\n",
    "\n",
    "#image observation at current tick goes here, shape = (sample_i,x,y,color)\n",
    "observation_layer = InputLayer((None,)+state_shape)\n",
    "\n",
    "layer = DenseLayer(observation_layer, 100, nonlinearity=elu)\n",
    "layer = DenseLayer(layer, 200, nonlinearity=elu)\n",
    "\n",
    "#a layer that predicts Qvalues\n",
    "qvalues_layer = DenseLayer(layer,num_units=n_actions,\n",
    "                           nonlinearity=None,name=\"q-values\")"
   ]
  },
  {
   "cell_type": "markdown",
   "metadata": {
    "deletable": true,
    "editable": true
   },
   "source": [
    "Picking actions is done by yet another layer, that implements $ \\epsilon$ -greedy policy"
   ]
  },
  {
   "cell_type": "code",
   "execution_count": 5,
   "metadata": {
    "collapsed": false,
    "deletable": true,
    "editable": true
   },
   "outputs": [],
   "source": [
    "from agentnet.resolver import EpsilonGreedyResolver\n",
    "action_layer = EpsilonGreedyResolver(qvalues_layer)\n",
    "\n",
    "#set starting epsilon\n",
    "action_layer.epsilon.set_value(np.float32(0.05))\n"
   ]
  },
  {
   "cell_type": "markdown",
   "metadata": {
    "deletable": true,
    "editable": true
   },
   "source": [
    "### Agent\n",
    "\n",
    "We define an agent entirely composed of a lasagne network:\n",
    "* Observations as InputLayer(s)\n",
    "* Actions as intermediate Layer(s)\n",
    "* `policy_estimators` is \"whatever else you want to keep track of\"\n",
    "\n",
    "Each parameter can be either one layer or a list of layers"
   ]
  },
  {
   "cell_type": "code",
   "execution_count": 6,
   "metadata": {
    "collapsed": false,
    "deletable": true,
    "editable": true
   },
   "outputs": [],
   "source": [
    "from agentnet.agent import Agent\n",
    "agent = Agent(observation_layers=observation_layer,\n",
    "              action_layers=action_layer,\n",
    "              policy_estimators=qvalues_layer,)\n"
   ]
  },
  {
   "cell_type": "code",
   "execution_count": 7,
   "metadata": {
    "collapsed": false,
    "deletable": true,
    "editable": true
   },
   "outputs": [
    {
     "data": {
      "text/plain": [
       "[W, b, W, b, q-values.W, q-values.b]"
      ]
     },
     "execution_count": 7,
     "metadata": {},
     "output_type": "execute_result"
    }
   ],
   "source": [
    "#Since it's a single lasagne network, one can get it's weights, output, etc\n",
    "weights = lasagne.layers.get_all_params(action_layer,trainable=True)\n",
    "weights"
   ]
  },
  {
   "cell_type": "markdown",
   "metadata": {
    "deletable": true,
    "editable": true
   },
   "source": [
    "# Create and manage a pool of atari sessions to play with\n",
    "\n",
    "* To make training more stable, we shall have an entire batch of game sessions each happening independent of others\n",
    "* Why several parallel agents help training: http://arxiv.org/pdf/1602.01783v1.pdf\n",
    "* Alternative approach: store more sessions: https://www.cs.toronto.edu/~vmnih/docs/dqn.pdf"
   ]
  },
  {
   "cell_type": "code",
   "execution_count": 8,
   "metadata": {
    "collapsed": false,
    "deletable": true,
    "editable": true
   },
   "outputs": [
    {
     "name": "stderr",
     "output_type": "stream",
     "text": [
      "[2018-02-02 23:30:31,702] Making new env: LunarLander-v2\n"
     ]
    }
   ],
   "source": [
    "from agentnet.experiments.openai_gym.pool import EnvPool\n",
    "pool = EnvPool(agent,make_env,n_games=1,max_size=10000)"
   ]
  },
  {
   "cell_type": "code",
   "execution_count": 9,
   "metadata": {
    "collapsed": false,
    "deletable": true,
    "editable": true
   },
   "outputs": [
    {
     "name": "stdout",
     "output_type": "stream",
     "text": [
      "('actions:', array([[0, 0, 3, 0, 0]]))\n",
      "('rewards:', array([[1.76360684, 1.88618985, 1.56593652, 1.7995859 , 0.        ]]))\n",
      "CPU times: user 5.9 ms, sys: 3.68 ms, total: 9.58 ms\n",
      "Wall time: 17.7 ms\n"
     ]
    }
   ],
   "source": [
    "%%time\n",
    "#interact for 7 ticks\n",
    "obs_log,action_log,reward_log,_,_,_  = pool.interact(5)\n",
    "\n",
    "\n",
    "print('actions:',action_log)\n",
    "print('rewards:',reward_log)"
   ]
  },
  {
   "cell_type": "code",
   "execution_count": 10,
   "metadata": {
    "collapsed": false,
    "deletable": true,
    "editable": true
   },
   "outputs": [],
   "source": [
    "#we'll train on rollouts of 10 steps (required by n-step algorithms and rnns later)\n",
    "SEQ_LENGTH=10\n",
    "\n",
    "#load first sessions (this function calls interact and stores sessions in the pool)\n",
    "\n",
    "for _ in range(100):\n",
    "    pool.update(SEQ_LENGTH)"
   ]
  },
  {
   "cell_type": "markdown",
   "metadata": {
    "deletable": true,
    "editable": true
   },
   "source": [
    "# q-learning\n",
    "\n",
    "We shall now define a function that replays recent game sessions and updates network weights"
   ]
  },
  {
   "cell_type": "code",
   "execution_count": 11,
   "metadata": {
    "collapsed": false,
    "deletable": true,
    "editable": true
   },
   "outputs": [],
   "source": [
    "#get agent's Qvalues obtained via experience replay\n",
    "replay = pool.experience_replay.sample_session_batch(100)\n",
    "qvalues_seq = agent.get_sessions(\n",
    "    replay,\n",
    "    session_length=SEQ_LENGTH,\n",
    "    experience_replay=True,\n",
    ")[-1]\n",
    "\n"
   ]
  },
  {
   "cell_type": "code",
   "execution_count": 12,
   "metadata": {
    "collapsed": false,
    "deletable": true,
    "editable": true
   },
   "outputs": [],
   "source": [
    "#loss for Qlearning = (Q(s,a) - (r+gamma*Q(s',a_max)))^2, like you implemented before in lasagne.\n",
    "\n",
    "from agentnet.learning import qlearning\n",
    "elwise_mse_loss = qlearning.get_elementwise_objective(qvalues_seq,\n",
    "                                                      replay.actions[0],\n",
    "                                                      replay.rewards,\n",
    "                                                      replay.is_alive,\n",
    "                                                      gamma_or_gammas=0.99,\n",
    "                                                      n_steps=1,)\n",
    "\n",
    "#compute mean loss over \"alive\" fragments\n",
    "loss = elwise_mse_loss.sum() / replay.is_alive.sum()"
   ]
  },
  {
   "cell_type": "code",
   "execution_count": 13,
   "metadata": {
    "collapsed": false,
    "deletable": true,
    "editable": true
   },
   "outputs": [],
   "source": [
    "#get weight updates\n",
    "updates = lasagne.updates.adam(loss,weights,learning_rate=1e-4)\n",
    "\n",
    "#compile train function\n",
    "import theano\n",
    "train_step = theano.function([],loss,updates=updates)"
   ]
  },
  {
   "cell_type": "markdown",
   "metadata": {
    "deletable": true,
    "editable": true
   },
   "source": [
    "# Demo run\n",
    "\n",
    "Play full session with an untrained agent"
   ]
  },
  {
   "cell_type": "code",
   "execution_count": 14,
   "metadata": {
    "collapsed": false,
    "deletable": true,
    "editable": true
   },
   "outputs": [
    {
     "name": "stderr",
     "output_type": "stream",
     "text": [
      "[2018-02-02 23:31:56,944] Making new env: LunarLander-v2\n",
      "[2018-02-02 23:31:56,955] Creating monitor directory ./records\n",
      "[2018-02-02 23:31:56,959] Starting new video recorder writing to /Users/maximdankovtsev/Developer/ml-mipt-part2/hw/HW5/records/openaigym.video.0.2487.video000000.mp4\n",
      "[2018-02-02 23:31:58,797] Finished writing results. You can upload them to the scoreboard via gym.upload('/Users/maximdankovtsev/Developer/ml-mipt-part2/hw/HW5/records')\n"
     ]
    },
    {
     "name": "stdout",
     "output_type": "stream",
     "text": [
      "Episode finished after 85 timesteps with reward=-487.614407234\n"
     ]
    }
   ],
   "source": [
    "#for MountainCar-v0 evaluation session is cropped to 200 ticks\n",
    "untrained_reward = pool.evaluate(save_path=\"./records\",record_video=True)"
   ]
  },
  {
   "cell_type": "code",
   "execution_count": 15,
   "metadata": {
    "collapsed": false,
    "deletable": true,
    "editable": true
   },
   "outputs": [
    {
     "data": {
      "text/html": [
       "\n",
       "<video width=\"640\" height=\"480\" controls>\n",
       "  <source src=\"./records/openaigym.video.0.2487.video000000.mp4\" type=\"video/mp4\">\n",
       "</video>\n"
      ],
      "text/plain": [
       "<IPython.core.display.HTML object>"
      ]
     },
     "execution_count": 15,
     "metadata": {},
     "output_type": "execute_result"
    }
   ],
   "source": [
    "#show video\n",
    "from IPython.display import HTML\n",
    "import os\n",
    "\n",
    "video_names = list(filter(lambda s:s.endswith(\".mp4\"),os.listdir(\"./records/\")))\n",
    "\n",
    "HTML(\"\"\"\n",
    "<video width=\"640\" height=\"480\" controls>\n",
    "  <source src=\"{}\" type=\"video/mp4\">\n",
    "</video>\n",
    "\"\"\".format(\"./records/\"+video_names[-1])) #this may or may not be _last_ video. Try other indices"
   ]
  },
  {
   "cell_type": "markdown",
   "metadata": {
    "deletable": true,
    "editable": true
   },
   "source": [
    "# Training loop"
   ]
  },
  {
   "cell_type": "code",
   "execution_count": 16,
   "metadata": {
    "collapsed": true,
    "deletable": true,
    "editable": true
   },
   "outputs": [],
   "source": [
    "epoch_counter = 1 #starting epoch\n",
    "rewards = {} #full game rewards\n",
    "target_score = -90"
   ]
  },
  {
   "cell_type": "code",
   "execution_count": 17,
   "metadata": {
    "collapsed": false,
    "deletable": true,
    "editable": true,
    "scrolled": true
   },
   "outputs": [
    {
     "name": "stderr",
     "output_type": "stream",
     "text": [
      "  1%|          | 98/10000 [00:03<06:44, 24.50it/s][2018-02-02 23:33:44,841] Making new env: LunarLander-v2\n",
      "[2018-02-02 23:33:44,848] Clearing 4 monitor files from previous run (because force=True was provided)\n",
      "[2018-02-02 23:33:44,976] Finished writing results. You can upload them to the scoreboard via gym.upload('/Users/maximdankovtsev/Developer/ml-mipt-part2/hw/HW5/records')\n",
      "  1%|          | 100/10000 [00:04<06:57, 23.70it/s]"
     ]
    },
    {
     "name": "stdout",
     "output_type": "stream",
     "text": [
      "Episode finished after 104 timesteps with reward=-296.954534809\n",
      "Episode finished after 65 timesteps with reward=-121.228915335\n",
      "Episode finished after 88 timesteps with reward=-87.1448991751\n",
      "iter=100\tepsilon=0.910\n",
      "Current score(mean over 3) = -168.443\n"
     ]
    },
    {
     "name": "stderr",
     "output_type": "stream",
     "text": [
      "  2%|▏         | 199/10000 [00:08<06:46, 24.10it/s][2018-02-02 23:33:49,068] Making new env: LunarLander-v2\n",
      "[2018-02-02 23:33:49,079] Clearing 2 monitor files from previous run (because force=True was provided)\n",
      "[2018-02-02 23:33:49,249] Finished writing results. You can upload them to the scoreboard via gym.upload('/Users/maximdankovtsev/Developer/ml-mipt-part2/hw/HW5/records')\n"
     ]
    },
    {
     "name": "stdout",
     "output_type": "stream",
     "text": [
      "Episode finished after 77 timesteps with reward=-103.249217352\n",
      "Episode finished after 121 timesteps with reward=-390.633116471\n",
      "Episode finished after 118 timesteps with reward=-506.985277236\n",
      "iter=200\tepsilon=0.828\n",
      "Current score(mean over 3) = -333.623\n"
     ]
    },
    {
     "name": "stderr",
     "output_type": "stream",
     "text": [
      "  3%|▎         | 298/10000 [00:12<07:02, 22.96it/s][2018-02-02 23:33:53,830] Making new env: LunarLander-v2\n",
      "[2018-02-02 23:33:53,840] Clearing 2 monitor files from previous run (because force=True was provided)\n"
     ]
    },
    {
     "name": "stdout",
     "output_type": "stream",
     "text": [
      "Episode finished after 188 timesteps with reward=-326.925074313\n"
     ]
    },
    {
     "name": "stderr",
     "output_type": "stream",
     "text": [
      "[2018-02-02 23:33:55,436] Finished writing results. You can upload them to the scoreboard via gym.upload('/Users/maximdankovtsev/Developer/ml-mipt-part2/hw/HW5/records')\n",
      "  3%|▎         | 301/10000 [00:14<07:54, 20.44it/s]"
     ]
    },
    {
     "name": "stdout",
     "output_type": "stream",
     "text": [
      "Episode finished after 1000 timesteps with reward=15.5409240645\n",
      "Episode finished after 89 timesteps with reward=-304.960264375\n",
      "iter=300\tepsilon=0.754\n",
      "Current score(mean over 3) = -205.448\n"
     ]
    },
    {
     "name": "stderr",
     "output_type": "stream",
     "text": [
      "  4%|▍         | 397/10000 [00:19<07:40, 20.84it/s][2018-02-02 23:33:59,978] Making new env: LunarLander-v2\n",
      "[2018-02-02 23:33:59,987] Clearing 2 monitor files from previous run (because force=True was provided)\n",
      "[2018-02-02 23:34:00,274] Finished writing results. You can upload them to the scoreboard via gym.upload('/Users/maximdankovtsev/Developer/ml-mipt-part2/hw/HW5/records')\n"
     ]
    },
    {
     "name": "stdout",
     "output_type": "stream",
     "text": [
      "Episode finished after 131 timesteps with reward=-421.826865106\n",
      "Episode finished after 88 timesteps with reward=-250.829689356\n",
      "Episode finished after 242 timesteps with reward=-232.663551697\n"
     ]
    },
    {
     "name": "stderr",
     "output_type": "stream",
     "text": [
      "  4%|▍         | 403/10000 [00:19<07:48, 20.50it/s]"
     ]
    },
    {
     "name": "stdout",
     "output_type": "stream",
     "text": [
      "iter=400\tepsilon=0.687\n",
      "Current score(mean over 3) = -301.773\n"
     ]
    },
    {
     "name": "stderr",
     "output_type": "stream",
     "text": [
      "  5%|▍         | 498/10000 [00:24<07:45, 20.43it/s][2018-02-02 23:34:05,253] Making new env: LunarLander-v2\n",
      "[2018-02-02 23:34:05,261] Clearing 2 monitor files from previous run (because force=True was provided)\n",
      "[2018-02-02 23:34:05,450] Finished writing results. You can upload them to the scoreboard via gym.upload('/Users/maximdankovtsev/Developer/ml-mipt-part2/hw/HW5/records')\n",
      "  5%|▌         | 501/10000 [00:24<07:49, 20.25it/s]"
     ]
    },
    {
     "name": "stdout",
     "output_type": "stream",
     "text": [
      "Episode finished after 121 timesteps with reward=-204.572037941\n",
      "Episode finished after 140 timesteps with reward=-395.065651293\n",
      "Episode finished after 75 timesteps with reward=-416.815749015\n",
      "iter=500\tepsilon=0.626\n",
      "Current score(mean over 3) = -338.818\n"
     ]
    },
    {
     "name": "stderr",
     "output_type": "stream",
     "text": [
      "  6%|▌         | 598/10000 [00:29<07:46, 20.14it/s][2018-02-02 23:34:10,573] Making new env: LunarLander-v2\n",
      "[2018-02-02 23:34:10,583] Clearing 2 monitor files from previous run (because force=True was provided)\n",
      "[2018-02-02 23:34:10,814] Finished writing results. You can upload them to the scoreboard via gym.upload('/Users/maximdankovtsev/Developer/ml-mipt-part2/hw/HW5/records')\n"
     ]
    },
    {
     "name": "stdout",
     "output_type": "stream",
     "text": [
      "Episode finished after 107 timesteps with reward=-380.209481372\n",
      "Episode finished after 160 timesteps with reward=-541.872990116\n",
      "Episode finished after 148 timesteps with reward=-290.126998534\n",
      "iter=600\tepsilon=0.571\n",
      "Current score(mean over 3) = -404.070\n"
     ]
    },
    {
     "name": "stderr",
     "output_type": "stream",
     "text": [
      "  7%|▋         | 699/10000 [00:35<07:47, 19.88it/s][2018-02-02 23:34:15,965] Making new env: LunarLander-v2\n",
      "[2018-02-02 23:34:15,972] Clearing 2 monitor files from previous run (because force=True was provided)\n",
      "[2018-02-02 23:34:16,136] Finished writing results. You can upload them to the scoreboard via gym.upload('/Users/maximdankovtsev/Developer/ml-mipt-part2/hw/HW5/records')\n",
      "  7%|▋         | 701/10000 [00:35<07:50, 19.78it/s]"
     ]
    },
    {
     "name": "stdout",
     "output_type": "stream",
     "text": [
      "Episode finished after 83 timesteps with reward=-368.671879627\n",
      "Episode finished after 144 timesteps with reward=-410.943652793\n",
      "Episode finished after 82 timesteps with reward=-333.940591041\n",
      "iter=700\tepsilon=0.522\n",
      "Current score(mean over 3) = -371.185\n"
     ]
    },
    {
     "name": "stderr",
     "output_type": "stream",
     "text": [
      "  8%|▊         | 799/10000 [00:41<08:02, 19.06it/s][2018-02-02 23:34:22,728] Making new env: LunarLander-v2\n",
      "[2018-02-02 23:34:22,736] Clearing 2 monitor files from previous run (because force=True was provided)\n",
      "[2018-02-02 23:34:22,919] Finished writing results. You can upload them to the scoreboard via gym.upload('/Users/maximdankovtsev/Developer/ml-mipt-part2/hw/HW5/records')\n",
      "  8%|▊         | 801/10000 [00:42<08:04, 18.98it/s]"
     ]
    },
    {
     "name": "stdout",
     "output_type": "stream",
     "text": [
      "Episode finished after 130 timesteps with reward=-573.74642093\n",
      "Episode finished after 116 timesteps with reward=-419.612215351\n",
      "Episode finished after 131 timesteps with reward=-265.03225093\n",
      "iter=800\tepsilon=0.477\n",
      "Current score(mean over 3) = -419.464\n"
     ]
    },
    {
     "name": "stderr",
     "output_type": "stream",
     "text": [
      "  9%|▉         | 899/10000 [00:47<08:02, 18.86it/s][2018-02-02 23:34:28,483] Making new env: LunarLander-v2\n",
      "[2018-02-02 23:34:28,492] Clearing 2 monitor files from previous run (because force=True was provided)\n",
      "[2018-02-02 23:34:28,634] Finished writing results. You can upload them to the scoreboard via gym.upload('/Users/maximdankovtsev/Developer/ml-mipt-part2/hw/HW5/records')\n",
      "  9%|▉         | 901/10000 [00:47<08:04, 18.80it/s]"
     ]
    },
    {
     "name": "stdout",
     "output_type": "stream",
     "text": [
      "Episode finished after 98 timesteps with reward=-489.2086515\n",
      "Episode finished after 110 timesteps with reward=-488.48554717\n",
      "Episode finished after 90 timesteps with reward=-158.190433033\n",
      "iter=900\tepsilon=0.436\n",
      "Current score(mean over 3) = -378.628\n"
     ]
    },
    {
     "name": "stderr",
     "output_type": "stream",
     "text": [
      " 10%|▉         | 999/10000 [00:54<08:11, 18.32it/s][2018-02-02 23:34:35,440] Making new env: LunarLander-v2\n",
      "[2018-02-02 23:34:35,448] Clearing 2 monitor files from previous run (because force=True was provided)\n",
      "[2018-02-02 23:34:35,790] Finished writing results. You can upload them to the scoreboard via gym.upload('/Users/maximdankovtsev/Developer/ml-mipt-part2/hw/HW5/records')\n",
      " 10%|█         | 1000/10000 [00:55<08:15, 18.17it/s]"
     ]
    },
    {
     "name": "stdout",
     "output_type": "stream",
     "text": [
      "Episode finished after 288 timesteps with reward=-815.596200816\n",
      "Episode finished after 138 timesteps with reward=-652.353391355\n",
      "Episode finished after 101 timesteps with reward=-246.900702215\n",
      "iter=1000\tepsilon=0.399\n",
      "Current score(mean over 3) = -571.617\n"
     ]
    },
    {
     "name": "stderr",
     "output_type": "stream",
     "text": [
      " 11%|█         | 1099/10000 [01:01<08:20, 17.78it/s][2018-02-02 23:34:42,618] Making new env: LunarLander-v2\n",
      "[2018-02-02 23:34:42,625] Clearing 2 monitor files from previous run (because force=True was provided)\n",
      "[2018-02-02 23:34:42,790] Finished writing results. You can upload them to the scoreboard via gym.upload('/Users/maximdankovtsev/Developer/ml-mipt-part2/hw/HW5/records')\n",
      " 11%|█         | 1101/10000 [01:02<08:21, 17.73it/s]"
     ]
    },
    {
     "name": "stdout",
     "output_type": "stream",
     "text": [
      "Episode finished after 89 timesteps with reward=-292.663124075\n",
      "Episode finished after 94 timesteps with reward=-395.590120238\n",
      "Episode finished after 128 timesteps with reward=-570.103040297\n",
      "iter=1100\tepsilon=0.366\n",
      "Current score(mean over 3) = -419.452\n"
     ]
    },
    {
     "name": "stderr",
     "output_type": "stream",
     "text": [
      " 12%|█▏        | 1199/10000 [01:07<08:18, 17.64it/s][2018-02-02 23:34:48,782] Making new env: LunarLander-v2\n",
      "[2018-02-02 23:34:48,790] Clearing 2 monitor files from previous run (because force=True was provided)\n",
      "[2018-02-02 23:34:49,133] Finished writing results. You can upload them to the scoreboard via gym.upload('/Users/maximdankovtsev/Developer/ml-mipt-part2/hw/HW5/records')\n"
     ]
    },
    {
     "name": "stdout",
     "output_type": "stream",
     "text": [
      "Episode finished after 218 timesteps with reward=-620.317006863\n",
      "Episode finished after 155 timesteps with reward=-703.212498827\n",
      "Episode finished after 92 timesteps with reward=-312.375760642\n",
      "iter=1200\tepsilon=0.336\n",
      "Current score(mean over 3) = -545.302\n"
     ]
    },
    {
     "name": "stderr",
     "output_type": "stream",
     "text": [
      " 13%|█▎        | 1299/10000 [01:14<08:18, 17.44it/s][2018-02-02 23:34:55,313] Making new env: LunarLander-v2\n",
      "[2018-02-02 23:34:55,321] Clearing 2 monitor files from previous run (because force=True was provided)\n"
     ]
    },
    {
     "name": "stdout",
     "output_type": "stream",
     "text": [
      "Episode finished after 363 timesteps with reward=-899.085426349\n",
      "Episode finished after 173 timesteps with reward=-601.110787917\n"
     ]
    },
    {
     "name": "stderr",
     "output_type": "stream",
     "text": [
      "[2018-02-02 23:34:55,843] Finished writing results. You can upload them to the scoreboard via gym.upload('/Users/maximdankovtsev/Developer/ml-mipt-part2/hw/HW5/records')\n",
      " 13%|█▎        | 1303/10000 [01:15<08:22, 17.31it/s]"
     ]
    },
    {
     "name": "stdout",
     "output_type": "stream",
     "text": [
      "Episode finished after 195 timesteps with reward=-393.858745726\n",
      "iter=1300\tepsilon=0.309\n",
      "Current score(mean over 3) = -631.352\n"
     ]
    },
    {
     "name": "stderr",
     "output_type": "stream",
     "text": [
      " 14%|█▍        | 1399/10000 [01:21<08:23, 17.08it/s][2018-02-02 23:35:02,728] Making new env: LunarLander-v2\n",
      "[2018-02-02 23:35:02,736] Clearing 2 monitor files from previous run (because force=True was provided)\n"
     ]
    },
    {
     "name": "stdout",
     "output_type": "stream",
     "text": [
      "Episode finished after 182 timesteps with reward=-294.653449894\n",
      "Episode finished after 224 timesteps with reward=-450.72139049\n"
     ]
    },
    {
     "name": "stderr",
     "output_type": "stream",
     "text": [
      "[2018-02-02 23:35:03,186] Finished writing results. You can upload them to the scoreboard via gym.upload('/Users/maximdankovtsev/Developer/ml-mipt-part2/hw/HW5/records')\n",
      " 14%|█▍        | 1401/10000 [01:22<08:26, 16.98it/s]"
     ]
    },
    {
     "name": "stdout",
     "output_type": "stream",
     "text": [
      "Episode finished after 246 timesteps with reward=-844.780504017\n",
      "iter=1400\tepsilon=0.284\n",
      "Current score(mean over 3) = -530.052\n"
     ]
    },
    {
     "name": "stderr",
     "output_type": "stream",
     "text": [
      " 15%|█▍        | 1498/10000 [01:30<08:34, 16.53it/s][2018-02-02 23:35:11,493] Making new env: LunarLander-v2\n",
      "[2018-02-02 23:35:11,501] Clearing 2 monitor files from previous run (because force=True was provided)\n"
     ]
    },
    {
     "name": "stdout",
     "output_type": "stream",
     "text": [
      "Episode finished after 267 timesteps with reward=-504.182885251\n",
      "Episode finished after 225 timesteps with reward=-404.088339539\n"
     ]
    },
    {
     "name": "stderr",
     "output_type": "stream",
     "text": [
      "[2018-02-02 23:35:11,957] Finished writing results. You can upload them to the scoreboard via gym.upload('/Users/maximdankovtsev/Developer/ml-mipt-part2/hw/HW5/records')\n",
      " 15%|█▌        | 1502/10000 [01:31<08:36, 16.44it/s]"
     ]
    },
    {
     "name": "stdout",
     "output_type": "stream",
     "text": [
      "Episode finished after 194 timesteps with reward=-413.243130891\n",
      "iter=1500\tepsilon=0.262\n",
      "Current score(mean over 3) = -440.505\n"
     ]
    },
    {
     "name": "stderr",
     "output_type": "stream",
     "text": [
      " 16%|█▌        | 1598/10000 [01:39<08:45, 15.99it/s][2018-02-02 23:35:20,834] Making new env: LunarLander-v2\n",
      "[2018-02-02 23:35:20,842] Clearing 2 monitor files from previous run (because force=True was provided)\n"
     ]
    },
    {
     "name": "stdout",
     "output_type": "stream",
     "text": [
      "Episode finished after 273 timesteps with reward=-654.11767959\n",
      "Episode finished after 191 timesteps with reward=-710.839784632\n"
     ]
    },
    {
     "name": "stderr",
     "output_type": "stream",
     "text": [
      "[2018-02-02 23:35:21,259] Finished writing results. You can upload them to the scoreboard via gym.upload('/Users/maximdankovtsev/Developer/ml-mipt-part2/hw/HW5/records')\n",
      " 16%|█▌        | 1602/10000 [01:40<08:47, 15.92it/s]"
     ]
    },
    {
     "name": "stdout",
     "output_type": "stream",
     "text": [
      "Episode finished after 210 timesteps with reward=-322.907646717\n",
      "iter=1600\tepsilon=0.242\n",
      "Current score(mean over 3) = -562.622\n"
     ]
    },
    {
     "name": "stderr",
     "output_type": "stream",
     "text": [
      " 17%|█▋        | 1699/10000 [01:48<08:51, 15.62it/s][2018-02-02 23:35:29,634] Making new env: LunarLander-v2\n",
      "[2018-02-02 23:35:29,642] Clearing 2 monitor files from previous run (because force=True was provided)\n",
      "[2018-02-02 23:35:29,788] Finished writing results. You can upload them to the scoreboard via gym.upload('/Users/maximdankovtsev/Developer/ml-mipt-part2/hw/HW5/records')\n",
      " 17%|█▋        | 1701/10000 [01:49<08:52, 15.59it/s]"
     ]
    },
    {
     "name": "stdout",
     "output_type": "stream",
     "text": [
      "Episode finished after 88 timesteps with reward=-285.143418162\n",
      "Episode finished after 84 timesteps with reward=-389.436132983\n",
      "Episode finished after 97 timesteps with reward=-166.538499894\n",
      "iter=1700\tepsilon=0.224\n",
      "Current score(mean over 3) = -280.373\n"
     ]
    },
    {
     "name": "stderr",
     "output_type": "stream",
     "text": [
      " 18%|█▊        | 1799/10000 [01:56<08:53, 15.38it/s][2018-02-02 23:35:37,814] Making new env: LunarLander-v2\n",
      "[2018-02-02 23:35:37,823] Clearing 2 monitor files from previous run (because force=True was provided)\n"
     ]
    },
    {
     "name": "stdout",
     "output_type": "stream",
     "text": [
      "Episode finished after 108 timesteps with reward=-200.459412965\n",
      "Episode finished after 190 timesteps with reward=-245.504469089\n"
     ]
    },
    {
     "name": "stderr",
     "output_type": "stream",
     "text": [
      "[2018-02-02 23:35:38,677] Finished writing results. You can upload them to the scoreboard via gym.upload('/Users/maximdankovtsev/Developer/ml-mipt-part2/hw/HW5/records')\n",
      " 18%|█▊        | 1801/10000 [01:58<08:57, 15.26it/s]"
     ]
    },
    {
     "name": "stdout",
     "output_type": "stream",
     "text": [
      "Episode finished after 600 timesteps with reward=-433.012754558\n",
      "iter=1800\tepsilon=0.207\n",
      "Current score(mean over 3) = -292.992\n"
     ]
    },
    {
     "name": "stderr",
     "output_type": "stream",
     "text": [
      " 19%|█▉        | 1898/10000 [02:06<09:01, 14.95it/s][2018-02-02 23:35:47,919] Making new env: LunarLander-v2\n",
      "[2018-02-02 23:35:47,928] Clearing 2 monitor files from previous run (because force=True was provided)\n",
      "[2018-02-02 23:35:48,136] Finished writing results. You can upload them to the scoreboard via gym.upload('/Users/maximdankovtsev/Developer/ml-mipt-part2/hw/HW5/records')\n",
      " 19%|█▉        | 1900/10000 [02:07<09:03, 14.92it/s]"
     ]
    },
    {
     "name": "stdout",
     "output_type": "stream",
     "text": [
      "Episode finished after 195 timesteps with reward=-171.1125644\n",
      "Episode finished after 88 timesteps with reward=-103.526850895\n",
      "Episode finished after 87 timesteps with reward=-123.329594364\n",
      "iter=1900\tepsilon=0.192\n",
      "Current score(mean over 3) = -132.656\n"
     ]
    },
    {
     "name": "stderr",
     "output_type": "stream",
     "text": [
      " 20%|█▉        | 1999/10000 [02:16<09:05, 14.66it/s][2018-02-02 23:35:57,244] Making new env: LunarLander-v2\n",
      "[2018-02-02 23:35:57,252] Clearing 2 monitor files from previous run (because force=True was provided)\n"
     ]
    },
    {
     "name": "stdout",
     "output_type": "stream",
     "text": [
      "Episode finished after 131 timesteps with reward=-116.372554217\n",
      "Episode finished after 234 timesteps with reward=-325.674257251\n"
     ]
    },
    {
     "name": "stderr",
     "output_type": "stream",
     "text": [
      "[2018-02-02 23:35:57,666] Finished writing results. You can upload them to the scoreboard via gym.upload('/Users/maximdankovtsev/Developer/ml-mipt-part2/hw/HW5/records')\n",
      " 20%|██        | 2001/10000 [02:17<09:07, 14.60it/s]"
     ]
    },
    {
     "name": "stdout",
     "output_type": "stream",
     "text": [
      "Episode finished after 244 timesteps with reward=-327.594565664\n",
      "iter=2000\tepsilon=0.179\n",
      "Current score(mean over 3) = -256.547\n"
     ]
    },
    {
     "name": "stderr",
     "output_type": "stream",
     "text": [
      " 21%|██        | 2099/10000 [02:25<09:08, 14.40it/s][2018-02-02 23:36:06,633] Making new env: LunarLander-v2\n",
      "[2018-02-02 23:36:06,641] Clearing 2 monitor files from previous run (because force=True was provided)\n"
     ]
    },
    {
     "name": "stdout",
     "output_type": "stream",
     "text": [
      "Episode finished after 286 timesteps with reward=-261.999056175\n",
      "Episode finished after 436 timesteps with reward=-270.97476425\n"
     ]
    },
    {
     "name": "stderr",
     "output_type": "stream",
     "text": [
      "[2018-02-02 23:36:07,787] Finished writing results. You can upload them to the scoreboard via gym.upload('/Users/maximdankovtsev/Developer/ml-mipt-part2/hw/HW5/records')\n",
      " 21%|██        | 2101/10000 [02:27<09:13, 14.28it/s]"
     ]
    },
    {
     "name": "stdout",
     "output_type": "stream",
     "text": [
      "Episode finished after 357 timesteps with reward=-287.442293338\n",
      "iter=2100\tepsilon=0.166\n",
      "Current score(mean over 3) = -273.472\n"
     ]
    },
    {
     "name": "stderr",
     "output_type": "stream",
     "text": [
      " 22%|██▏       | 2198/10000 [02:37<09:20, 13.93it/s][2018-02-02 23:36:18,753] Making new env: LunarLander-v2\n",
      "[2018-02-02 23:36:18,761] Clearing 2 monitor files from previous run (because force=True was provided)\n"
     ]
    },
    {
     "name": "stdout",
     "output_type": "stream",
     "text": [
      "Episode finished after 413 timesteps with reward=-422.570678065\n",
      "Episode finished after 216 timesteps with reward=-212.312706279\n"
     ]
    },
    {
     "name": "stderr",
     "output_type": "stream",
     "text": [
      "[2018-02-02 23:36:19,376] Finished writing results. You can upload them to the scoreboard via gym.upload('/Users/maximdankovtsev/Developer/ml-mipt-part2/hw/HW5/records')\n",
      " 22%|██▏       | 2200/10000 [02:38<09:22, 13.87it/s]"
     ]
    },
    {
     "name": "stdout",
     "output_type": "stream",
     "text": [
      "Episode finished after 236 timesteps with reward=-255.349857964\n",
      "iter=2200\tepsilon=0.155\n",
      "Current score(mean over 3) = -296.744\n"
     ]
    },
    {
     "name": "stderr",
     "output_type": "stream",
     "text": [
      " 23%|██▎       | 2299/10000 [02:47<09:20, 13.75it/s][2018-02-02 23:36:28,047] Making new env: LunarLander-v2\n",
      "[2018-02-02 23:36:28,055] Clearing 2 monitor files from previous run (because force=True was provided)\n",
      "[2018-02-02 23:36:28,212] Finished writing results. You can upload them to the scoreboard via gym.upload('/Users/maximdankovtsev/Developer/ml-mipt-part2/hw/HW5/records')\n",
      " 23%|██▎       | 2301/10000 [02:47<09:20, 13.73it/s]"
     ]
    },
    {
     "name": "stdout",
     "output_type": "stream",
     "text": [
      "Episode finished after 98 timesteps with reward=-224.321503825\n",
      "Episode finished after 99 timesteps with reward=-194.857557267\n",
      "Episode finished after 90 timesteps with reward=-444.546613334\n",
      "iter=2300\tepsilon=0.145\n",
      "Current score(mean over 3) = -287.909\n"
     ]
    },
    {
     "name": "stderr",
     "output_type": "stream",
     "text": [
      " 24%|██▍       | 2399/10000 [02:55<09:15, 13.68it/s][2018-02-02 23:36:36,165] Making new env: LunarLander-v2\n",
      "[2018-02-02 23:36:36,173] Clearing 2 monitor files from previous run (because force=True was provided)\n"
     ]
    },
    {
     "name": "stdout",
     "output_type": "stream",
     "text": [
      "Episode finished after 147 timesteps with reward=-294.274681352\n",
      "Episode finished after 198 timesteps with reward=-178.371209142\n"
     ]
    },
    {
     "name": "stderr",
     "output_type": "stream",
     "text": [
      "[2018-02-02 23:36:36,703] Finished writing results. You can upload them to the scoreboard via gym.upload('/Users/maximdankovtsev/Developer/ml-mipt-part2/hw/HW5/records')\n",
      " 24%|██▍       | 2401/10000 [02:56<09:17, 13.64it/s]"
     ]
    },
    {
     "name": "stdout",
     "output_type": "stream",
     "text": [
      "Episode finished after 356 timesteps with reward=-342.24390786\n",
      "iter=2400\tepsilon=0.136\n",
      "Current score(mean over 3) = -271.630\n"
     ]
    },
    {
     "name": "stderr",
     "output_type": "stream",
     "text": [
      " 25%|██▍       | 2499/10000 [03:04<09:13, 13.56it/s][2018-02-02 23:36:45,104] Making new env: LunarLander-v2\n",
      "[2018-02-02 23:36:45,112] Clearing 2 monitor files from previous run (because force=True was provided)\n",
      "[2018-02-02 23:36:45,264] Finished writing results. You can upload them to the scoreboard via gym.upload('/Users/maximdankovtsev/Developer/ml-mipt-part2/hw/HW5/records')\n",
      " 25%|██▌       | 2501/10000 [03:04<09:13, 13.55it/s]"
     ]
    },
    {
     "name": "stdout",
     "output_type": "stream",
     "text": [
      "Episode finished after 95 timesteps with reward=-301.225929812\n",
      "Episode finished after 106 timesteps with reward=-213.483925081\n",
      "Episode finished after 93 timesteps with reward=-395.410927677\n",
      "iter=2500\tepsilon=0.128\n",
      "Current score(mean over 3) = -303.374\n"
     ]
    },
    {
     "name": "stderr",
     "output_type": "stream",
     "text": [
      " 26%|██▌       | 2598/10000 [03:12<09:09, 13.48it/s][2018-02-02 23:36:53,665] Making new env: LunarLander-v2\n",
      "[2018-02-02 23:36:53,672] Clearing 2 monitor files from previous run (because force=True was provided)\n",
      "[2018-02-02 23:36:53,914] Finished writing results. You can upload them to the scoreboard via gym.upload('/Users/maximdankovtsev/Developer/ml-mipt-part2/hw/HW5/records')\n",
      " 26%|██▌       | 2600/10000 [03:13<09:09, 13.46it/s]"
     ]
    },
    {
     "name": "stdout",
     "output_type": "stream",
     "text": [
      "Episode finished after 85 timesteps with reward=-238.805244836\n",
      "Episode finished after 79 timesteps with reward=-488.117388331\n",
      "Episode finished after 237 timesteps with reward=-265.210691682\n",
      "iter=2600\tepsilon=0.121\n",
      "Current score(mean over 3) = -330.711\n"
     ]
    },
    {
     "name": "stderr",
     "output_type": "stream",
     "text": [
      " 27%|██▋       | 2698/10000 [03:21<09:04, 13.41it/s][2018-02-02 23:37:02,099] Making new env: LunarLander-v2\n",
      "[2018-02-02 23:37:02,106] Clearing 2 monitor files from previous run (because force=True was provided)\n",
      "[2018-02-02 23:37:02,300] Finished writing results. You can upload them to the scoreboard via gym.upload('/Users/maximdankovtsev/Developer/ml-mipt-part2/hw/HW5/records')\n",
      " 27%|██▋       | 2700/10000 [03:21<09:04, 13.40it/s]"
     ]
    },
    {
     "name": "stdout",
     "output_type": "stream",
     "text": [
      "Episode finished after 142 timesteps with reward=-472.721042044\n",
      "Episode finished after 90 timesteps with reward=-572.39416577\n",
      "Episode finished after 102 timesteps with reward=-74.1486881188\n",
      "iter=2700\tepsilon=0.114\n",
      "Current score(mean over 3) = -373.088\n"
     ]
    },
    {
     "name": "stderr",
     "output_type": "stream",
     "text": [
      " 28%|██▊       | 2798/10000 [03:29<08:58, 13.36it/s][2018-02-02 23:37:10,325] Making new env: LunarLander-v2\n",
      "[2018-02-02 23:37:10,333] Clearing 2 monitor files from previous run (because force=True was provided)\n"
     ]
    },
    {
     "name": "stdout",
     "output_type": "stream",
     "text": [
      "Episode finished after 199 timesteps with reward=-409.595820422\n",
      "Episode finished after 201 timesteps with reward=-322.63308869\n"
     ]
    },
    {
     "name": "stderr",
     "output_type": "stream",
     "text": [
      "[2018-02-02 23:37:10,679] Finished writing results. You can upload them to the scoreboard via gym.upload('/Users/maximdankovtsev/Developer/ml-mipt-part2/hw/HW5/records')\n",
      " 28%|██▊       | 2802/10000 [03:30<08:59, 13.34it/s]"
     ]
    },
    {
     "name": "stdout",
     "output_type": "stream",
     "text": [
      "Episode finished after 149 timesteps with reward=-355.763015427\n",
      "iter=2800\tepsilon=0.108\n",
      "Current score(mean over 3) = -362.664\n"
     ]
    },
    {
     "name": "stderr",
     "output_type": "stream",
     "text": [
      " 29%|██▉       | 2898/10000 [03:38<08:54, 13.29it/s][2018-02-02 23:37:19,014] Making new env: LunarLander-v2\n",
      "[2018-02-02 23:37:19,023] Clearing 2 monitor files from previous run (because force=True was provided)\n"
     ]
    },
    {
     "name": "stdout",
     "output_type": "stream",
     "text": [
      "Episode finished after 292 timesteps with reward=-595.400554235\n",
      "Episode finished after 136 timesteps with reward=-61.246122753\n"
     ]
    },
    {
     "name": "stderr",
     "output_type": "stream",
     "text": [
      "[2018-02-02 23:37:19,481] Finished writing results. You can upload them to the scoreboard via gym.upload('/Users/maximdankovtsev/Developer/ml-mipt-part2/hw/HW5/records')\n",
      " 29%|██▉       | 2902/10000 [03:38<08:55, 13.26it/s]"
     ]
    },
    {
     "name": "stdout",
     "output_type": "stream",
     "text": [
      "Episode finished after 146 timesteps with reward=-335.528327487\n",
      "iter=2900\tepsilon=0.102\n",
      "Current score(mean over 3) = -330.725\n"
     ]
    },
    {
     "name": "stderr",
     "output_type": "stream",
     "text": [
      " 30%|██▉       | 2998/10000 [03:47<08:51, 13.18it/s][2018-02-02 23:37:28,450] Making new env: LunarLander-v2\n",
      "[2018-02-02 23:37:28,457] Clearing 2 monitor files from previous run (because force=True was provided)\n"
     ]
    },
    {
     "name": "stdout",
     "output_type": "stream",
     "text": [
      "Episode finished after 191 timesteps with reward=-389.976319169\n",
      "Episode finished after 167 timesteps with reward=-386.538233867\n"
     ]
    },
    {
     "name": "stderr",
     "output_type": "stream",
     "text": [
      "[2018-02-02 23:37:28,863] Finished writing results. You can upload them to the scoreboard via gym.upload('/Users/maximdankovtsev/Developer/ml-mipt-part2/hw/HW5/records')\n",
      " 30%|███       | 3002/10000 [03:48<08:52, 13.15it/s]"
     ]
    },
    {
     "name": "stdout",
     "output_type": "stream",
     "text": [
      "Episode finished after 194 timesteps with reward=-502.207735779\n",
      "iter=3000\tepsilon=0.097\n",
      "Current score(mean over 3) = -426.241\n"
     ]
    },
    {
     "name": "stderr",
     "output_type": "stream",
     "text": [
      " 31%|███       | 3099/10000 [03:57<08:48, 13.07it/s][2018-02-02 23:37:38,017] Making new env: LunarLander-v2\n",
      "[2018-02-02 23:37:38,026] Clearing 2 monitor files from previous run (because force=True was provided)\n",
      "[2018-02-02 23:37:38,644] Finished writing results. You can upload them to the scoreboard via gym.upload('/Users/maximdankovtsev/Developer/ml-mipt-part2/hw/HW5/records')\n"
     ]
    },
    {
     "name": "stdout",
     "output_type": "stream",
     "text": [
      "Episode finished after 433 timesteps with reward=-178.075120832\n",
      "Episode finished after 126 timesteps with reward=-35.1388364804\n",
      "Episode finished after 182 timesteps with reward=-212.888124684\n",
      "iter=3100\tepsilon=0.093\n",
      "Current score(mean over 3) = -142.034"
     ]
    },
    {
     "name": "stderr",
     "output_type": "stream",
     "text": [
      " 32%|███▏      | 3198/10000 [04:09<08:50, 12.83it/s][2018-02-02 23:37:50,246] Making new env: LunarLander-v2\n",
      "[2018-02-02 23:37:50,259] Clearing 2 monitor files from previous run (because force=True was provided)\n"
     ]
    },
    {
     "name": "stdout",
     "output_type": "stream",
     "text": [
      "\n",
      "Episode finished after 312 timesteps with reward=-252.672233876\n"
     ]
    },
    {
     "name": "stderr",
     "output_type": "stream",
     "text": [
      "[2018-02-02 23:37:51,089] Finished writing results. You can upload them to the scoreboard via gym.upload('/Users/maximdankovtsev/Developer/ml-mipt-part2/hw/HW5/records')\n",
      " 32%|███▏      | 3200/10000 [04:10<08:51, 12.78it/s]"
     ]
    },
    {
     "name": "stdout",
     "output_type": "stream",
     "text": [
      "Episode finished after 285 timesteps with reward=-246.197518434\n",
      "Episode finished after 231 timesteps with reward=-369.434337547\n",
      "iter=3200\tepsilon=0.089\n",
      "Current score(mean over 3) = -289.435\n"
     ]
    },
    {
     "name": "stderr",
     "output_type": "stream",
     "text": [
      " 33%|███▎      | 3299/10000 [04:20<08:49, 12.66it/s][2018-02-02 23:38:01,448] Making new env: LunarLander-v2\n",
      "[2018-02-02 23:38:01,456] Clearing 2 monitor files from previous run (because force=True was provided)\n"
     ]
    },
    {
     "name": "stdout",
     "output_type": "stream",
     "text": [
      "Episode finished after 255 timesteps with reward=-106.784491238\n",
      "Episode finished after 112 timesteps with reward=-181.703249911\n"
     ]
    },
    {
     "name": "stderr",
     "output_type": "stream",
     "text": [
      "[2018-02-02 23:38:01,881] Finished writing results. You can upload them to the scoreboard via gym.upload('/Users/maximdankovtsev/Developer/ml-mipt-part2/hw/HW5/records')\n",
      " 33%|███▎      | 3301/10000 [04:21<08:50, 12.64it/s]"
     ]
    },
    {
     "name": "stdout",
     "output_type": "stream",
     "text": [
      "Episode finished after 191 timesteps with reward=-201.694291487\n",
      "iter=3300\tepsilon=0.085\n",
      "Current score(mean over 3) = -163.394\n"
     ]
    },
    {
     "name": "stderr",
     "output_type": "stream",
     "text": [
      " 34%|███▍      | 3399/10000 [04:34<08:53, 12.38it/s][2018-02-02 23:38:15,418] Making new env: LunarLander-v2\n",
      "[2018-02-02 23:38:15,427] Clearing 2 monitor files from previous run (because force=True was provided)\n"
     ]
    },
    {
     "name": "stdout",
     "output_type": "stream",
     "text": [
      "Episode finished after 318 timesteps with reward=-160.708972021\n",
      "Episode finished after 400 timesteps with reward=-350.666948382\n"
     ]
    },
    {
     "name": "stderr",
     "output_type": "stream",
     "text": [
      "[2018-02-02 23:38:16,384] Finished writing results. You can upload them to the scoreboard via gym.upload('/Users/maximdankovtsev/Developer/ml-mipt-part2/hw/HW5/records')\n",
      " 34%|███▍      | 3402/10000 [04:35<08:54, 12.34it/s]"
     ]
    },
    {
     "name": "stdout",
     "output_type": "stream",
     "text": [
      "Episode finished after 300 timesteps with reward=-152.438088919\n",
      "iter=3400\tepsilon=0.082\n",
      "Current score(mean over 3) = -221.271\n"
     ]
    },
    {
     "name": "stderr",
     "output_type": "stream",
     "text": [
      " 35%|███▍      | 3499/10000 [04:45<08:50, 12.27it/s][2018-02-02 23:38:26,106] Making new env: LunarLander-v2\n",
      "[2018-02-02 23:38:26,115] Clearing 2 monitor files from previous run (because force=True was provided)\n"
     ]
    },
    {
     "name": "stdout",
     "output_type": "stream",
     "text": [
      "Episode finished after 82 timesteps with reward=-260.914102106\n",
      "Episode finished after 256 timesteps with reward=-379.887246279\n"
     ]
    },
    {
     "name": "stderr",
     "output_type": "stream",
     "text": [
      "[2018-02-02 23:38:26,468] Finished writing results. You can upload them to the scoreboard via gym.upload('/Users/maximdankovtsev/Developer/ml-mipt-part2/hw/HW5/records')\n",
      " 35%|███▌      | 3501/10000 [04:45<08:50, 12.25it/s]"
     ]
    },
    {
     "name": "stdout",
     "output_type": "stream",
     "text": [
      "Episode finished after 194 timesteps with reward=-380.274633323\n",
      "iter=3500\tepsilon=0.079\n",
      "Current score(mean over 3) = -340.359\n"
     ]
    },
    {
     "name": "stderr",
     "output_type": "stream",
     "text": [
      " 36%|███▌      | 3598/10000 [04:55<08:46, 12.16it/s][2018-02-02 23:38:36,787] Making new env: LunarLander-v2\n",
      "[2018-02-02 23:38:36,797] Clearing 2 monitor files from previous run (because force=True was provided)\n"
     ]
    },
    {
     "name": "stdout",
     "output_type": "stream",
     "text": [
      "Episode finished after 267 timesteps with reward=-368.507173407\n",
      "Episode finished after 250 timesteps with reward=-356.232059223\n"
     ]
    },
    {
     "name": "stderr",
     "output_type": "stream",
     "text": [
      "[2018-02-02 23:38:38,285] Finished writing results. You can upload them to the scoreboard via gym.upload('/Users/maximdankovtsev/Developer/ml-mipt-part2/hw/HW5/records')\n",
      " 36%|███▌      | 3601/10000 [04:57<08:48, 12.10it/s]"
     ]
    },
    {
     "name": "stdout",
     "output_type": "stream",
     "text": [
      "Episode finished after 617 timesteps with reward=-396.794148267\n",
      "iter=3600\tepsilon=0.076\n",
      "Current score(mean over 3) = -373.844\n"
     ]
    },
    {
     "name": "stderr",
     "output_type": "stream",
     "text": [
      " 37%|███▋      | 3699/10000 [05:06<08:42, 12.06it/s][2018-02-02 23:38:47,665] Making new env: LunarLander-v2\n",
      "[2018-02-02 23:38:47,673] Clearing 2 monitor files from previous run (because force=True was provided)\n"
     ]
    },
    {
     "name": "stdout",
     "output_type": "stream",
     "text": [
      "Episode finished after 278 timesteps with reward=-452.00340381\n",
      "Episode finished after 289 timesteps with reward=-333.222452133\n"
     ]
    },
    {
     "name": "stderr",
     "output_type": "stream",
     "text": [
      "[2018-02-02 23:38:48,396] Finished writing results. You can upload them to the scoreboard via gym.upload('/Users/maximdankovtsev/Developer/ml-mipt-part2/hw/HW5/records')\n",
      " 37%|███▋      | 3702/10000 [05:07<08:43, 12.03it/s]"
     ]
    },
    {
     "name": "stdout",
     "output_type": "stream",
     "text": [
      "Episode finished after 271 timesteps with reward=-389.390741332\n",
      "iter=3700\tepsilon=0.073\n",
      "Current score(mean over 3) = -391.539\n"
     ]
    },
    {
     "name": "stderr",
     "output_type": "stream",
     "text": [
      " 38%|███▊      | 3799/10000 [05:17<08:37, 11.98it/s][2018-02-02 23:38:57,877] Making new env: LunarLander-v2\n",
      "[2018-02-02 23:38:57,885] Clearing 2 monitor files from previous run (because force=True was provided)\n"
     ]
    },
    {
     "name": "stdout",
     "output_type": "stream",
     "text": [
      "Episode finished after 247 timesteps with reward=-229.708186429\n",
      "Episode finished after 206 timesteps with reward=-62.442274723\n"
     ]
    },
    {
     "name": "stderr",
     "output_type": "stream",
     "text": [
      "[2018-02-02 23:38:58,302] Finished writing results. You can upload them to the scoreboard via gym.upload('/Users/maximdankovtsev/Developer/ml-mipt-part2/hw/HW5/records')\n",
      " 38%|███▊      | 3801/10000 [05:17<08:38, 11.97it/s]"
     ]
    },
    {
     "name": "stdout",
     "output_type": "stream",
     "text": [
      "Episode finished after 125 timesteps with reward=-397.465580018\n",
      "iter=3800\tepsilon=0.071\n",
      "Current score(mean over 3) = -229.872\n"
     ]
    },
    {
     "name": "stderr",
     "output_type": "stream",
     "text": [
      " 39%|███▉      | 3898/10000 [05:26<08:31, 11.92it/s][2018-02-02 23:39:07,834] Making new env: LunarLander-v2\n",
      "[2018-02-02 23:39:07,842] Clearing 2 monitor files from previous run (because force=True was provided)\n"
     ]
    },
    {
     "name": "stdout",
     "output_type": "stream",
     "text": [
      "Episode finished after 164 timesteps with reward=-256.96949133\n",
      "Episode finished after 315 timesteps with reward=-395.954009847\n"
     ]
    },
    {
     "name": "stderr",
     "output_type": "stream",
     "text": [
      "[2018-02-02 23:39:08,668] Finished writing results. You can upload them to the scoreboard via gym.upload('/Users/maximdankovtsev/Developer/ml-mipt-part2/hw/HW5/records')\n",
      " 39%|███▉      | 3901/10000 [05:28<08:32, 11.89it/s]"
     ]
    },
    {
     "name": "stdout",
     "output_type": "stream",
     "text": [
      "Episode finished after 378 timesteps with reward=-344.416611004\n",
      "iter=3900\tepsilon=0.069\n",
      "Current score(mean over 3) = -332.447\n"
     ]
    },
    {
     "name": "stderr",
     "output_type": "stream",
     "text": [
      " 40%|███▉      | 3998/10000 [05:38<08:27, 11.83it/s][2018-02-02 23:39:19,036] Making new env: LunarLander-v2\n",
      "[2018-02-02 23:39:19,044] Clearing 2 monitor files from previous run (because force=True was provided)\n"
     ]
    },
    {
     "name": "stdout",
     "output_type": "stream",
     "text": [
      "Episode finished after 196 timesteps with reward=-36.6738408823\n",
      "Episode finished after 197 timesteps with reward=-238.412346762\n"
     ]
    },
    {
     "name": "stderr",
     "output_type": "stream",
     "text": [
      "[2018-02-02 23:39:19,459] Finished writing results. You can upload them to the scoreboard via gym.upload('/Users/maximdankovtsev/Developer/ml-mipt-part2/hw/HW5/records')\n",
      " 40%|████      | 4001/10000 [05:38<08:27, 11.81it/s]"
     ]
    },
    {
     "name": "stdout",
     "output_type": "stream",
     "text": [
      "Episode finished after 196 timesteps with reward=-290.042565029\n",
      "iter=4000\tepsilon=0.067\n",
      "Current score(mean over 3) = -188.376\n"
     ]
    },
    {
     "name": "stderr",
     "output_type": "stream",
     "text": [
      " 41%|████      | 4099/10000 [05:47<08:20, 11.78it/s][2018-02-02 23:39:28,723] Making new env: LunarLander-v2\n",
      "[2018-02-02 23:39:28,731] Clearing 2 monitor files from previous run (because force=True was provided)\n"
     ]
    },
    {
     "name": "stdout",
     "output_type": "stream",
     "text": [
      "Episode finished after 148 timesteps with reward=-535.393065578\n",
      "Episode finished after 119 timesteps with reward=-483.325736172\n"
     ]
    },
    {
     "name": "stderr",
     "output_type": "stream",
     "text": [
      "[2018-02-02 23:39:29,089] Finished writing results. You can upload them to the scoreboard via gym.upload('/Users/maximdankovtsev/Developer/ml-mipt-part2/hw/HW5/records')\n",
      " 41%|████      | 4101/10000 [05:48<08:21, 11.77it/s]"
     ]
    },
    {
     "name": "stdout",
     "output_type": "stream",
     "text": [
      "Episode finished after 261 timesteps with reward=-400.967557411\n",
      "iter=4100\tepsilon=0.066\n",
      "Current score(mean over 3) = -473.229\n"
     ]
    },
    {
     "name": "stderr",
     "output_type": "stream",
     "text": [
      " 42%|████▏     | 4199/10000 [05:56<08:13, 11.76it/s][2018-02-02 23:39:37,796] Making new env: LunarLander-v2\n",
      "[2018-02-02 23:39:37,804] Clearing 2 monitor files from previous run (because force=True was provided)\n"
     ]
    },
    {
     "name": "stdout",
     "output_type": "stream",
     "text": [
      "Episode finished after 246 timesteps with reward=-301.743806413\n",
      "Episode finished after 194 timesteps with reward=-47.0714958834\n"
     ]
    },
    {
     "name": "stderr",
     "output_type": "stream",
     "text": [
      "[2018-02-02 23:39:38,261] Finished writing results. You can upload them to the scoreboard via gym.upload('/Users/maximdankovtsev/Developer/ml-mipt-part2/hw/HW5/records')\n",
      " 42%|████▏     | 4201/10000 [05:57<08:13, 11.75it/s]"
     ]
    },
    {
     "name": "stdout",
     "output_type": "stream",
     "text": [
      "Episode finished after 207 timesteps with reward=-270.77348585\n",
      "iter=4200\tepsilon=0.064\n",
      "Current score(mean over 3) = -206.530\n"
     ]
    },
    {
     "name": "stderr",
     "output_type": "stream",
     "text": [
      " 43%|████▎     | 4299/10000 [06:06<08:06, 11.72it/s][2018-02-02 23:39:47,699] Making new env: LunarLander-v2\n",
      "[2018-02-02 23:39:47,707] Clearing 2 monitor files from previous run (because force=True was provided)\n"
     ]
    },
    {
     "name": "stdout",
     "output_type": "stream",
     "text": [
      "Episode finished after 241 timesteps with reward=-238.320905235\n",
      "Episode finished after 192 timesteps with reward=-206.32618071\n"
     ]
    },
    {
     "name": "stderr",
     "output_type": "stream",
     "text": [
      "[2018-02-02 23:39:48,131] Finished writing results. You can upload them to the scoreboard via gym.upload('/Users/maximdankovtsev/Developer/ml-mipt-part2/hw/HW5/records')\n",
      " 43%|████▎     | 4302/10000 [06:07<08:06, 11.71it/s]"
     ]
    },
    {
     "name": "stdout",
     "output_type": "stream",
     "text": [
      "Episode finished after 165 timesteps with reward=-183.608123963\n",
      "iter=4300\tepsilon=0.063\n",
      "Current score(mean over 3) = -209.418\n"
     ]
    },
    {
     "name": "stderr",
     "output_type": "stream",
     "text": [
      " 44%|████▍     | 4399/10000 [06:17<08:01, 11.64it/s][2018-02-02 23:39:58,796] Making new env: LunarLander-v2\n",
      "[2018-02-02 23:39:58,806] Clearing 2 monitor files from previous run (because force=True was provided)\n"
     ]
    },
    {
     "name": "stdout",
     "output_type": "stream",
     "text": [
      "Episode finished after 109 timesteps with reward=-120.325620058\n",
      "Episode finished after 222 timesteps with reward=-216.697055264\n"
     ]
    },
    {
     "name": "stderr",
     "output_type": "stream",
     "text": [
      "[2018-02-02 23:39:59,164] Finished writing results. You can upload them to the scoreboard via gym.upload('/Users/maximdankovtsev/Developer/ml-mipt-part2/hw/HW5/records')\n",
      " 44%|████▍     | 4401/10000 [06:18<08:01, 11.63it/s]"
     ]
    },
    {
     "name": "stdout",
     "output_type": "stream",
     "text": [
      "Episode finished after 152 timesteps with reward=-212.150742795\n",
      "iter=4400\tepsilon=0.062\n",
      "Current score(mean over 3) = -183.058\n"
     ]
    },
    {
     "name": "stderr",
     "output_type": "stream",
     "text": [
      " 45%|████▍     | 4499/10000 [06:28<07:54, 11.59it/s][2018-02-02 23:40:09,145] Making new env: LunarLander-v2\n",
      "[2018-02-02 23:40:09,155] Clearing 2 monitor files from previous run (because force=True was provided)\n"
     ]
    },
    {
     "name": "stdout",
     "output_type": "stream",
     "text": [
      "Episode finished after 150 timesteps with reward=-205.788729623\n",
      "Episode finished after 178 timesteps with reward=-23.803507788\n"
     ]
    },
    {
     "name": "stderr",
     "output_type": "stream",
     "text": [
      "[2018-02-02 23:40:09,552] Finished writing results. You can upload them to the scoreboard via gym.upload('/Users/maximdankovtsev/Developer/ml-mipt-part2/hw/HW5/records')\n",
      " 45%|████▌     | 4501/10000 [06:28<07:55, 11.57it/s]"
     ]
    },
    {
     "name": "stdout",
     "output_type": "stream",
     "text": [
      "Episode finished after 96 timesteps with reward=-177.833124466\n",
      "iter=4500\tepsilon=0.061\n",
      "Current score(mean over 3) = -135.808\n"
     ]
    },
    {
     "name": "stderr",
     "output_type": "stream",
     "text": [
      " 46%|████▌     | 4599/10000 [06:38<07:48, 11.54it/s][2018-02-02 23:40:19,489] Making new env: LunarLander-v2\n",
      "[2018-02-02 23:40:19,497] Clearing 2 monitor files from previous run (because force=True was provided)\n"
     ]
    },
    {
     "name": "stdout",
     "output_type": "stream",
     "text": [
      "Episode finished after 240 timesteps with reward=-61.4090859326\n",
      "Episode finished after 197 timesteps with reward=-160.916759659\n"
     ]
    },
    {
     "name": "stderr",
     "output_type": "stream",
     "text": [
      "[2018-02-02 23:40:20,000] Finished writing results. You can upload them to the scoreboard via gym.upload('/Users/maximdankovtsev/Developer/ml-mipt-part2/hw/HW5/records')\n",
      " 46%|████▌     | 4601/10000 [06:39<07:48, 11.52it/s]"
     ]
    },
    {
     "name": "stdout",
     "output_type": "stream",
     "text": [
      "Episode finished after 220 timesteps with reward=-230.119623404\n",
      "iter=4600\tepsilon=0.060\n",
      "Current score(mean over 3) = -150.815\n"
     ]
    },
    {
     "name": "stderr",
     "output_type": "stream",
     "text": [
      " 47%|████▋     | 4699/10000 [06:49<07:41, 11.49it/s][2018-02-02 23:40:29,920] Making new env: LunarLander-v2\n",
      "[2018-02-02 23:40:29,928] Clearing 2 monitor files from previous run (because force=True was provided)\n",
      "[2018-02-02 23:40:30,191] Finished writing results. You can upload them to the scoreboard via gym.upload('/Users/maximdankovtsev/Developer/ml-mipt-part2/hw/HW5/records')\n"
     ]
    },
    {
     "name": "stdout",
     "output_type": "stream",
     "text": [
      "Episode finished after 179 timesteps with reward=-220.577432665\n",
      "Episode finished after 97 timesteps with reward=-343.476989323\n",
      "Episode finished after 167 timesteps with reward=-135.922883282\n",
      "iter=4700\tepsilon=0.059\n",
      "Current score(mean over 3) = -233.326\n"
     ]
    },
    {
     "name": "stderr",
     "output_type": "stream",
     "text": [
      " 48%|████▊     | 4798/10000 [06:57<07:33, 11.48it/s][2018-02-02 23:40:38,798] Making new env: LunarLander-v2\n",
      "[2018-02-02 23:40:38,806] Clearing 2 monitor files from previous run (because force=True was provided)\n",
      "[2018-02-02 23:40:39,035] Finished writing results. You can upload them to the scoreboard via gym.upload('/Users/maximdankovtsev/Developer/ml-mipt-part2/hw/HW5/records')\n",
      " 48%|████▊     | 4800/10000 [06:58<07:33, 11.48it/s]"
     ]
    },
    {
     "name": "stdout",
     "output_type": "stream",
     "text": [
      "Episode finished after 85 timesteps with reward=-712.755718712\n",
      "Episode finished after 177 timesteps with reward=-249.13621452\n",
      "Episode finished after 139 timesteps with reward=-297.825778718\n",
      "iter=4800\tepsilon=0.058\n",
      "Current score(mean over 3) = -419.906\n"
     ]
    },
    {
     "name": "stderr",
     "output_type": "stream",
     "text": [
      " 49%|████▉     | 4898/10000 [07:06<07:24, 11.49it/s][2018-02-02 23:40:47,273] Making new env: LunarLander-v2\n",
      "[2018-02-02 23:40:47,282] Clearing 2 monitor files from previous run (because force=True was provided)\n"
     ]
    },
    {
     "name": "stdout",
     "output_type": "stream",
     "text": [
      "Episode finished after 96 timesteps with reward=-336.603246816\n",
      "Episode finished after 208 timesteps with reward=-172.336220285\n"
     ]
    },
    {
     "name": "stderr",
     "output_type": "stream",
     "text": [
      "[2018-02-02 23:40:47,661] Finished writing results. You can upload them to the scoreboard via gym.upload('/Users/maximdankovtsev/Developer/ml-mipt-part2/hw/HW5/records')\n",
      " 49%|████▉     | 4902/10000 [07:07<07:24, 11.48it/s]"
     ]
    },
    {
     "name": "stdout",
     "output_type": "stream",
     "text": [
      "Episode finished after 269 timesteps with reward=-263.093812226\n",
      "iter=4900\tepsilon=0.057\n",
      "Current score(mean over 3) = -257.344\n"
     ]
    },
    {
     "name": "stderr",
     "output_type": "stream",
     "text": [
      " 50%|████▉     | 4999/10000 [07:15<07:15, 11.49it/s][2018-02-02 23:40:55,945] Making new env: LunarLander-v2\n",
      "[2018-02-02 23:40:55,953] Clearing 2 monitor files from previous run (because force=True was provided)\n"
     ]
    },
    {
     "name": "stdout",
     "output_type": "stream",
     "text": [
      "Episode finished after 164 timesteps with reward=-245.506770323\n",
      "Episode finished after 81 timesteps with reward=-573.45081769\n"
     ]
    },
    {
     "name": "stderr",
     "output_type": "stream",
     "text": [
      "[2018-02-02 23:40:56,290] Finished writing results. You can upload them to the scoreboard via gym.upload('/Users/maximdankovtsev/Developer/ml-mipt-part2/hw/HW5/records')\n",
      " 50%|█████     | 5001/10000 [07:15<07:15, 11.48it/s]"
     ]
    },
    {
     "name": "stdout",
     "output_type": "stream",
     "text": [
      "Episode finished after 274 timesteps with reward=-327.205267884\n",
      "iter=5000\tepsilon=0.056\n",
      "Current score(mean over 3) = -382.054\n"
     ]
    },
    {
     "name": "stderr",
     "output_type": "stream",
     "text": [
      " 51%|█████     | 5099/10000 [07:23<07:06, 11.49it/s][2018-02-02 23:41:04,639] Making new env: LunarLander-v2\n",
      "[2018-02-02 23:41:04,647] Clearing 2 monitor files from previous run (because force=True was provided)\n"
     ]
    },
    {
     "name": "stdout",
     "output_type": "stream",
     "text": [
      "Episode finished after 168 timesteps with reward=-329.059675189\n",
      "Episode finished after 189 timesteps with reward=-341.299661637\n"
     ]
    },
    {
     "name": "stderr",
     "output_type": "stream",
     "text": [
      "[2018-02-02 23:41:04,975] Finished writing results. You can upload them to the scoreboard via gym.upload('/Users/maximdankovtsev/Developer/ml-mipt-part2/hw/HW5/records')\n",
      " 51%|█████     | 5101/10000 [07:24<07:06, 11.48it/s]"
     ]
    },
    {
     "name": "stdout",
     "output_type": "stream",
     "text": [
      "Episode finished after 179 timesteps with reward=-178.360262439\n",
      "iter=5100\tepsilon=0.056\n",
      "Current score(mean over 3) = -282.907\n"
     ]
    },
    {
     "name": "stderr",
     "output_type": "stream",
     "text": [
      " 52%|█████▏    | 5199/10000 [07:32<06:57, 11.49it/s][2018-02-02 23:41:13,156] Making new env: LunarLander-v2\n",
      "[2018-02-02 23:41:13,164] Clearing 2 monitor files from previous run (because force=True was provided)\n"
     ]
    },
    {
     "name": "stdout",
     "output_type": "stream",
     "text": [
      "Episode finished after 155 timesteps with reward=-250.426740124\n",
      "Episode finished after 181 timesteps with reward=-343.043126066\n"
     ]
    },
    {
     "name": "stderr",
     "output_type": "stream",
     "text": [
      "[2018-02-02 23:41:13,517] Finished writing results. You can upload them to the scoreboard via gym.upload('/Users/maximdankovtsev/Developer/ml-mipt-part2/hw/HW5/records')\n",
      " 52%|█████▏    | 5201/10000 [07:32<06:57, 11.49it/s]"
     ]
    },
    {
     "name": "stdout",
     "output_type": "stream",
     "text": [
      "Episode finished after 216 timesteps with reward=-288.527877218\n",
      "iter=5200\tepsilon=0.055\n",
      "Current score(mean over 3) = -293.999\n"
     ]
    },
    {
     "name": "stderr",
     "output_type": "stream",
     "text": [
      " 53%|█████▎    | 5299/10000 [07:41<06:49, 11.48it/s][2018-02-02 23:41:22,298] Making new env: LunarLander-v2\n",
      "[2018-02-02 23:41:22,307] Clearing 2 monitor files from previous run (because force=True was provided)\n"
     ]
    },
    {
     "name": "stdout",
     "output_type": "stream",
     "text": [
      "Episode finished after 178 timesteps with reward=-31.2369197521\n",
      "Episode finished after 158 timesteps with reward=-172.378254542\n"
     ]
    },
    {
     "name": "stderr",
     "output_type": "stream",
     "text": [
      "[2018-02-02 23:41:22,674] Finished writing results. You can upload them to the scoreboard via gym.upload('/Users/maximdankovtsev/Developer/ml-mipt-part2/hw/HW5/records')\n",
      " 53%|█████▎    | 5301/10000 [07:42<06:49, 11.47it/s]"
     ]
    },
    {
     "name": "stdout",
     "output_type": "stream",
     "text": [
      "Episode finished after 198 timesteps with reward=-296.908503924\n",
      "iter=5300\tepsilon=0.055\n",
      "Current score(mean over 3) = -166.841\n"
     ]
    },
    {
     "name": "stderr",
     "output_type": "stream",
     "text": [
      " 54%|█████▍    | 5398/10000 [07:50<06:41, 11.46it/s][2018-02-02 23:41:31,757] Making new env: LunarLander-v2\n",
      "[2018-02-02 23:41:31,767] Clearing 2 monitor files from previous run (because force=True was provided)\n",
      "[2018-02-02 23:41:32,010] Finished writing results. You can upload them to the scoreboard via gym.upload('/Users/maximdankovtsev/Developer/ml-mipt-part2/hw/HW5/records')\n",
      " 54%|█████▍    | 5400/10000 [07:51<06:41, 11.46it/s]"
     ]
    },
    {
     "name": "stdout",
     "output_type": "stream",
     "text": [
      "Episode finished after 95 timesteps with reward=-171.516304009\n",
      "Episode finished after 100 timesteps with reward=-98.9613945041\n",
      "Episode finished after 176 timesteps with reward=-261.395382726\n",
      "iter=5400\tepsilon=0.054\n",
      "Current score(mean over 3) = -177.291\n"
     ]
    },
    {
     "name": "stderr",
     "output_type": "stream",
     "text": [
      " 55%|█████▍    | 5498/10000 [08:00<06:33, 11.45it/s][2018-02-02 23:41:40,980] Making new env: LunarLander-v2\n",
      "[2018-02-02 23:41:40,989] Clearing 2 monitor files from previous run (because force=True was provided)\n"
     ]
    },
    {
     "name": "stdout",
     "output_type": "stream",
     "text": [
      "Episode finished after 209 timesteps with reward=-90.2268220994\n",
      "Episode finished after 181 timesteps with reward=-39.8283946982\n"
     ]
    },
    {
     "name": "stderr",
     "output_type": "stream",
     "text": [
      "[2018-02-02 23:41:41,645] Finished writing results. You can upload them to the scoreboard via gym.upload('/Users/maximdankovtsev/Developer/ml-mipt-part2/hw/HW5/records')\n"
     ]
    },
    {
     "name": "stdout",
     "output_type": "stream",
     "text": [
      "Episode finished after 408 timesteps with reward=-60.4038619645\n",
      "iter=5500\tepsilon=0.054\n",
      "Current score(mean over 3) = -63.486\n",
      "You win!\n"
     ]
    },
    {
     "name": "stderr",
     "output_type": "stream",
     "text": [
      "\r",
      " 55%|█████▍    | 5498/10000 [08:10<06:41, 11.22it/s]"
     ]
    }
   ],
   "source": [
    "from tqdm import trange\n",
    "\n",
    "for i in trange(10000):    \n",
    "    \n",
    "    #play\n",
    "    for _ in range(5):\n",
    "        pool.update(SEQ_LENGTH,append=True)\n",
    "    \n",
    "    #train\n",
    "    train_step()\n",
    "    \n",
    "    #update epsilon\n",
    "    epsilon = 0.05 + 0.95*np.exp(-epoch_counter/1000.)\n",
    "    action_layer.epsilon.set_value(np.float32(epsilon))\n",
    "    \n",
    "    #play a few games for evaluation\n",
    "    if epoch_counter%100==0:\n",
    "        rewards[epoch_counter] = np.mean(pool.evaluate(n_games=3,record_video=False))\n",
    "        print(\"iter=%i\\tepsilon=%.3f\"%(epoch_counter,action_layer.epsilon.get_value(),))\n",
    "        print(\"Current score(mean over %i) = %.3f\"%(3,np.mean(rewards[epoch_counter])))\n",
    "    \n",
    "        if rewards[epoch_counter] >= target_score:\n",
    "            print(\"You win!\")\n",
    "            break\n",
    "\n",
    "    \n",
    "    epoch_counter  +=1\n",
    "\n",
    "    \n",
    "# Time to drink some coffee!"
   ]
  },
  {
   "cell_type": "code",
   "execution_count": 18,
   "metadata": {
    "collapsed": false,
    "deletable": true,
    "editable": true
   },
   "outputs": [
    {
     "name": "stderr",
     "output_type": "stream",
     "text": [
      "/usr/local/lib/python2.7/site-packages/ipykernel/__main__.py:3: FutureWarning: pd.ewm_mean is deprecated for ndarrays and will be removed in a future version\n",
      "  app.launch_new_instance()\n"
     ]
    },
    {
     "data": {
      "text/plain": [
       "[<matplotlib.lines.Line2D at 0x1130ce750>]"
      ]
     },
     "execution_count": 18,
     "metadata": {},
     "output_type": "execute_result"
    },
    {
     "data": {
      "image/png": "[encoded data removed]",
      "text/plain": [
       "<matplotlib.figure.Figure at 0x10f4cf310>"
      ]
     },
     "metadata": {},
     "output_type": "display_data"
    }
   ],
   "source": [
    "from pandas import ewma\n",
    "iters,session_rewards=zip(*sorted(rewards.items(),key=lambda (k,v):k))\n",
    "plt.plot(iters,ewma(np.array(session_rewards),span=10))"
   ]
  },
  {
   "cell_type": "code",
   "execution_count": 19,
   "metadata": {
    "collapsed": false,
    "deletable": true,
    "editable": true
   },
   "outputs": [
    {
     "name": "stderr",
     "output_type": "stream",
     "text": [
      "[2018-02-02 23:47:29,715] Making new env: LunarLander-v2\n",
      "[2018-02-02 23:47:29,725] Clearing 2 monitor files from previous run (because force=True was provided)\n",
      "[2018-02-02 23:47:29,728] Starting new video recorder writing to /Users/maximdankovtsev/Developer/ml-mipt-part2/hw/HW5/records/openaigym.video.56.2487.video000000.mp4\n",
      "[2018-02-02 23:47:33,029] Starting new video recorder writing to /Users/maximdankovtsev/Developer/ml-mipt-part2/hw/HW5/records/openaigym.video.56.2487.video000001.mp4\n"
     ]
    },
    {
     "name": "stdout",
     "output_type": "stream",
     "text": [
      "Episode finished after 168 timesteps with reward=-66.9489493822\n",
      "Episode finished after 243 timesteps with reward=-132.725488259\n",
      "Episode finished after 212 timesteps with reward=-167.846737751\n",
      "Episode finished after 189 timesteps with reward=-56.784009607\n",
      "Episode finished after 238 timesteps with reward=-173.311767428\n",
      "Episode finished after 225 timesteps with reward=-152.199867131\n",
      "Episode finished after 233 timesteps with reward=-102.060288603\n"
     ]
    },
    {
     "name": "stderr",
     "output_type": "stream",
     "text": [
      "[2018-02-02 23:47:38,568] Starting new video recorder writing to /Users/maximdankovtsev/Developer/ml-mipt-part2/hw/HW5/records/openaigym.video.56.2487.video000008.mp4\n"
     ]
    },
    {
     "name": "stdout",
     "output_type": "stream",
     "text": [
      "Episode finished after 204 timesteps with reward=-16.5843069481\n"
     ]
    },
    {
     "name": "stderr",
     "output_type": "stream",
     "text": [
      "[2018-02-02 23:47:42,242] Finished writing results. You can upload them to the scoreboard via gym.upload('/Users/maximdankovtsev/Developer/ml-mipt-part2/hw/HW5/records')\n"
     ]
    },
    {
     "name": "stdout",
     "output_type": "stream",
     "text": [
      "Episode finished after 199 timesteps with reward=-261.040989362\n",
      "Episode finished after 171 timesteps with reward=-173.758615319\n",
      "('average reward:', [-66.94894938223868, -132.7254882586081, -167.8467377509109, -56.78400960699836, -173.31176742760334, -152.1998671313281, -102.06028860307757, -16.58430694805722, -261.04098936198614, -173.75861531868625])\n"
     ]
    }
   ],
   "source": [
    "final_reward = pool.evaluate(n_games=10,save_path=\"./records\",record_video=True)\n",
    "\n",
    "print(\"average reward:\",final_reward)\n",
    "\n",
    "video_names = list(filter(lambda s:s.endswith(\".mp4\"),os.listdir(\"./records/\")))\n",
    "\n",
    "for video_name in video_names:\n",
    "    HTML(\"\"\"\n",
    "    <video width=\"640\" height=\"480\" controls>\n",
    "      <source src=\"{}\" type=\"video/mp4\">\n",
    "    </video>\n",
    "    \"\"\".format(\"./records/\"+video_name)) #this may or may not be _last_ video. Try other indices"
   ]
  },
  {
   "cell_type": "code",
   "execution_count": null,
   "metadata": {
    "collapsed": true,
    "deletable": true,
    "editable": true
   },
   "outputs": [],
   "source": []
  }
 ],
 "metadata": {
  "kernelspec": {
   "display_name": "Python 2",
   "language": "python",
   "name": "python2"
  },
  "language_info": {
   "codemirror_mode": {
    "name": "ipython",
    "version": 2
   },
   "file_extension": ".py",
   "mimetype": "text/x-python",
   "name": "python",
   "nbconvert_exporter": "python",
   "pygments_lexer": "ipython2",
   "version": "2.7.13"
  }
 },
 "nbformat": 4,
 "nbformat_minor": 0
}
